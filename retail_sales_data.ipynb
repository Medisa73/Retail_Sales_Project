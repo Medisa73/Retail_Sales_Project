{
 "cells": [
  {
   "cell_type": "markdown",
   "id": "97b26f20",
   "metadata": {},
   "source": [
    "# Cleaning Data"
   ]
  },
  {
   "cell_type": "code",
   "execution_count": 4,
   "id": "73d791b8",
   "metadata": {},
   "outputs": [],
   "source": [
    "import pandas as pd\n",
    "\n",
    "data_path = \"/Users/medisa/repos/Test/retail_sales_data.csv\"\n",
    "df = pd.read_csv(data_path)"
   ]
  },
  {
   "cell_type": "code",
   "execution_count": 5,
   "id": "df39bdcb",
   "metadata": {},
   "outputs": [
    {
     "data": {
      "text/html": [
       "<div>\n",
       "<style scoped>\n",
       "    .dataframe tbody tr th:only-of-type {\n",
       "        vertical-align: middle;\n",
       "    }\n",
       "\n",
       "    .dataframe tbody tr th {\n",
       "        vertical-align: top;\n",
       "    }\n",
       "\n",
       "    .dataframe thead th {\n",
       "        text-align: right;\n",
       "    }\n",
       "</style>\n",
       "<table border=\"1\" class=\"dataframe\">\n",
       "  <thead>\n",
       "    <tr style=\"text-align: right;\">\n",
       "      <th></th>\n",
       "      <th>TransactionID</th>\n",
       "      <th>CustomerID</th>\n",
       "      <th>Product</th>\n",
       "      <th>Category</th>\n",
       "      <th>Quantity</th>\n",
       "      <th>Price</th>\n",
       "      <th>TransactionDate</th>\n",
       "      <th>Region</th>\n",
       "    </tr>\n",
       "  </thead>\n",
       "  <tbody>\n",
       "    <tr>\n",
       "      <th>0</th>\n",
       "      <td>TXN00001</td>\n",
       "      <td>CUST0052</td>\n",
       "      <td>Camera</td>\n",
       "      <td>Electronics</td>\n",
       "      <td>1</td>\n",
       "      <td>1489.74</td>\n",
       "      <td>2021-12-04</td>\n",
       "      <td>North</td>\n",
       "    </tr>\n",
       "    <tr>\n",
       "      <th>1</th>\n",
       "      <td>TXN00002</td>\n",
       "      <td>CUST0093</td>\n",
       "      <td>Monitor</td>\n",
       "      <td>NaN</td>\n",
       "      <td>2</td>\n",
       "      <td>1364.68</td>\n",
       "      <td>12/04/2022</td>\n",
       "      <td>East</td>\n",
       "    </tr>\n",
       "    <tr>\n",
       "      <th>2</th>\n",
       "      <td>TXN00003</td>\n",
       "      <td>CUST0015</td>\n",
       "      <td>Smartphone</td>\n",
       "      <td>Accessories</td>\n",
       "      <td>1</td>\n",
       "      <td>1004.30</td>\n",
       "      <td>27/01/2022</td>\n",
       "      <td>East</td>\n",
       "    </tr>\n",
       "    <tr>\n",
       "      <th>3</th>\n",
       "      <td>TXN00004</td>\n",
       "      <td>CUST0072</td>\n",
       "      <td>Mouse</td>\n",
       "      <td>NaN</td>\n",
       "      <td>1</td>\n",
       "      <td>91.89</td>\n",
       "      <td>22/10/2022</td>\n",
       "      <td>South</td>\n",
       "    </tr>\n",
       "    <tr>\n",
       "      <th>4</th>\n",
       "      <td>TXN00005</td>\n",
       "      <td>CUST0061</td>\n",
       "      <td>Laptop</td>\n",
       "      <td>Accessories</td>\n",
       "      <td>3</td>\n",
       "      <td>1719.75</td>\n",
       "      <td>17/05/2021</td>\n",
       "      <td>NaN</td>\n",
       "    </tr>\n",
       "  </tbody>\n",
       "</table>\n",
       "</div>"
      ],
      "text/plain": [
       "  TransactionID CustomerID     Product     Category  Quantity    Price  \\\n",
       "0      TXN00001   CUST0052      Camera  Electronics         1  1489.74   \n",
       "1      TXN00002   CUST0093     Monitor          NaN         2  1364.68   \n",
       "2      TXN00003   CUST0015  Smartphone  Accessories         1  1004.30   \n",
       "3      TXN00004   CUST0072       Mouse          NaN         1    91.89   \n",
       "4      TXN00005   CUST0061      Laptop  Accessories         3  1719.75   \n",
       "\n",
       "  TransactionDate Region  \n",
       "0      2021-12-04  North  \n",
       "1      12/04/2022   East  \n",
       "2      27/01/2022   East  \n",
       "3      22/10/2022  South  \n",
       "4      17/05/2021    NaN  "
      ]
     },
     "execution_count": 5,
     "metadata": {},
     "output_type": "execute_result"
    }
   ],
   "source": [
    "df.head()\n",
    "#shows the first 5 rows"
   ]
  },
  {
   "cell_type": "code",
   "execution_count": 6,
   "id": "a3cbe1b2",
   "metadata": {},
   "outputs": [
    {
     "name": "stdout",
     "output_type": "stream",
     "text": [
      "<class 'pandas.core.frame.DataFrame'>\n",
      "RangeIndex: 205 entries, 0 to 204\n",
      "Data columns (total 8 columns):\n",
      " #   Column           Non-Null Count  Dtype  \n",
      "---  ------           --------------  -----  \n",
      " 0   TransactionID    205 non-null    object \n",
      " 1   CustomerID       205 non-null    object \n",
      " 2   Product          205 non-null    object \n",
      " 3   Category         156 non-null    object \n",
      " 4   Quantity         205 non-null    int64  \n",
      " 5   Price            205 non-null    float64\n",
      " 6   TransactionDate  205 non-null    object \n",
      " 7   Region           167 non-null    object \n",
      "dtypes: float64(1), int64(1), object(6)\n",
      "memory usage: 12.9+ KB\n"
     ]
    }
   ],
   "source": [
    "#prints information about the Dataframe\n",
    "df.info()"
   ]
  },
  {
   "cell_type": "code",
   "execution_count": 7,
   "id": "19a13776",
   "metadata": {},
   "outputs": [
    {
     "data": {
      "text/html": [
       "<div>\n",
       "<style scoped>\n",
       "    .dataframe tbody tr th:only-of-type {\n",
       "        vertical-align: middle;\n",
       "    }\n",
       "\n",
       "    .dataframe tbody tr th {\n",
       "        vertical-align: top;\n",
       "    }\n",
       "\n",
       "    .dataframe thead th {\n",
       "        text-align: right;\n",
       "    }\n",
       "</style>\n",
       "<table border=\"1\" class=\"dataframe\">\n",
       "  <thead>\n",
       "    <tr style=\"text-align: right;\">\n",
       "      <th></th>\n",
       "      <th>Quantity</th>\n",
       "      <th>Price</th>\n",
       "    </tr>\n",
       "  </thead>\n",
       "  <tbody>\n",
       "    <tr>\n",
       "      <th>count</th>\n",
       "      <td>205.000000</td>\n",
       "      <td>205.000000</td>\n",
       "    </tr>\n",
       "    <tr>\n",
       "      <th>mean</th>\n",
       "      <td>2.653659</td>\n",
       "      <td>1007.179951</td>\n",
       "    </tr>\n",
       "    <tr>\n",
       "      <th>std</th>\n",
       "      <td>1.159804</td>\n",
       "      <td>579.154213</td>\n",
       "    </tr>\n",
       "    <tr>\n",
       "      <th>min</th>\n",
       "      <td>1.000000</td>\n",
       "      <td>24.210000</td>\n",
       "    </tr>\n",
       "    <tr>\n",
       "      <th>25%</th>\n",
       "      <td>2.000000</td>\n",
       "      <td>504.320000</td>\n",
       "    </tr>\n",
       "    <tr>\n",
       "      <th>50%</th>\n",
       "      <td>3.000000</td>\n",
       "      <td>932.760000</td>\n",
       "    </tr>\n",
       "    <tr>\n",
       "      <th>75%</th>\n",
       "      <td>4.000000</td>\n",
       "      <td>1554.210000</td>\n",
       "    </tr>\n",
       "    <tr>\n",
       "      <th>max</th>\n",
       "      <td>4.000000</td>\n",
       "      <td>1992.780000</td>\n",
       "    </tr>\n",
       "  </tbody>\n",
       "</table>\n",
       "</div>"
      ],
      "text/plain": [
       "         Quantity        Price\n",
       "count  205.000000   205.000000\n",
       "mean     2.653659  1007.179951\n",
       "std      1.159804   579.154213\n",
       "min      1.000000    24.210000\n",
       "25%      2.000000   504.320000\n",
       "50%      3.000000   932.760000\n",
       "75%      4.000000  1554.210000\n",
       "max      4.000000  1992.780000"
      ]
     },
     "execution_count": 7,
     "metadata": {},
     "output_type": "execute_result"
    }
   ],
   "source": [
    "#description of the data in the DataFrame\n",
    "df.describe()"
   ]
  },
  {
   "cell_type": "markdown",
   "id": "59a9920e",
   "metadata": {},
   "source": [
    "# Handle missing values"
   ]
  },
  {
   "cell_type": "code",
   "execution_count": 8,
   "id": "a0cc16e3",
   "metadata": {},
   "outputs": [
    {
     "data": {
      "text/plain": [
       "TransactionID       0\n",
       "CustomerID          0\n",
       "Product             0\n",
       "Category           49\n",
       "Quantity            0\n",
       "Price               0\n",
       "TransactionDate     0\n",
       "Region             38\n",
       "dtype: int64"
      ]
     },
     "execution_count": 8,
     "metadata": {},
     "output_type": "execute_result"
    }
   ],
   "source": [
    "#Check which columns have missing values(to see where the gaps are). This shows for each column, how many missing(NaN) values I have.\n",
    "df.isnull().sum()"
   ]
  },
  {
   "cell_type": "code",
   "execution_count": 9,
   "id": "b09a7bcd",
   "metadata": {},
   "outputs": [],
   "source": [
    "#Fill missing values\n",
    "df['Region'] = df['Region'].fillna('Unknown')\n",
    "df['Category'] = df['Category'].fillna('Unknown')"
   ]
  },
  {
   "cell_type": "code",
   "execution_count": 10,
   "id": "06a0cf74",
   "metadata": {},
   "outputs": [
    {
     "data": {
      "text/plain": [
       "TransactionID      0\n",
       "CustomerID         0\n",
       "Product            0\n",
       "Category           0\n",
       "Quantity           0\n",
       "Price              0\n",
       "TransactionDate    0\n",
       "Region             0\n",
       "dtype: int64"
      ]
     },
     "execution_count": 10,
     "metadata": {},
     "output_type": "execute_result"
    }
   ],
   "source": [
    "#Double-check missing values\n",
    "df.isnull().sum()"
   ]
  },
  {
   "cell_type": "markdown",
   "id": "0986d358",
   "metadata": {},
   "source": [
    "# Fix inconsistent formatting"
   ]
  },
  {
   "cell_type": "code",
   "execution_count": 11,
   "id": "33325010",
   "metadata": {},
   "outputs": [
    {
     "name": "stdout",
     "output_type": "stream",
     "text": [
      "Index(['TransactionID', 'CustomerID', 'Product', 'Category', 'Quantity',\n",
      "       'Price', 'TransactionDate', 'Region'],\n",
      "      dtype='object')\n"
     ]
    }
   ],
   "source": [
    "#Strip extra spaces in text columns\n",
    "\n",
    "print(df.columns)\n"
   ]
  },
  {
   "cell_type": "code",
   "execution_count": 12,
   "id": "72472a08",
   "metadata": {},
   "outputs": [],
   "source": [
    "#Strip spaces\n",
    "df['TransactionID'] = df['TransactionID'].str.strip()\n",
    "df['CustomerID'] = df['CustomerID'].str.strip()\n",
    "df['Product'] = df['Product'].str.strip()\n",
    "df['Category'] = df['Category'].str.strip()\n",
    "df['Region'] = df['Region'].str.strip()"
   ]
  },
  {
   "cell_type": "markdown",
   "id": "a603d6cf",
   "metadata": {},
   "source": []
  },
  {
   "cell_type": "code",
   "execution_count": 13,
   "id": "1dbbda4c",
   "metadata": {},
   "outputs": [],
   "source": [
    "#or for all string columns at once:\n",
    "df = df.apply(lambda x: x.str.strip() if x.dtype == \"object\" else x)"
   ]
  },
  {
   "cell_type": "code",
   "execution_count": 14,
   "id": "0088c40b",
   "metadata": {},
   "outputs": [],
   "source": [
    "#Standardize letter cases\n",
    "#first letter uppercase\n",
    "df['Region'] = df['Region'].str.title()\n",
    "\n",
    "# اومدم ستون ریجن رو از دیتافریم گرفتم\n",
    "# تبدیلش کردم به استرینگ تا مطمپن بشم چیزی به جز استرینگ نباشه\n",
    "# متد تایتل رو روی هر کدوم از ردیفای اون ستون اعمال کردم تا بیاد به یه فرم تایتل تبدیلشون کنه (یعنی چی حرف اول کپیتالایز بقیه کوچک)\n",
    "\n",
    "#or to apply for all the titles\n",
    "df = df.apply(lambda col: col.str.strip().str.title() if col.dtype == \"object\" else col)\n",
    "\n",
    "# روی دیتافریم دارم یه کاری رو انجام میدم چه کاری؟\n",
    "# ورودی اون کاری که انجام میدم ستونای دیتافریم هست\n",
    "# کاری که انجام میدم اینه:\n",
    "# هر ستون رو میام به رشته تدبیل میکنم\n",
    "# میایم وسیت اسپیس یا کارکاترای اضافی اول و اخرش رو حذف میکنم\n",
    "# دوباره مطمپن میشم که رشتس\n",
    "# و بعد تبدیلش میکنم به تیاتل یعنی حرف اول کپیتال بقیش کوچیک\n",
    "\n",
    "# اینکارو وقتی انجام میدم که نوع اون ستون ابجکت باشه (یعنی جچی)\n",
    "# یعنی اگر رشته باشه نیاز نیست اینگارو بکنم\n",
    "\n",
    "# در غیر اینصورت همون مقدار ورودی رو برمیگردونم\n",
    "\n"
   ]
  },
  {
   "cell_type": "markdown",
   "id": "7d7a5292",
   "metadata": {},
   "source": []
  },
  {
   "cell_type": "code",
   "execution_count": 15,
   "id": "c4131198",
   "metadata": {},
   "outputs": [],
   "source": [
    "\n",
    "#Fix mixed data types\n",
    "\n",
    "#Convert to numeric:\n",
    "df['Quantity'] = pd.to_numeric(df['Quantity'], errors='coerce')\n",
    "\n",
    "#Convert to datetime:\n",
    "df['TransactionDate'] = pd.to_datetime(df['TransactionDate'], errors='coerce')"
   ]
  },
  {
   "cell_type": "markdown",
   "id": "d729e5cd",
   "metadata": {},
   "source": [
    "# Find duplicates"
   ]
  },
  {
   "cell_type": "code",
   "execution_count": 16,
   "id": "2285da4f",
   "metadata": {},
   "outputs": [
    {
     "name": "stdout",
     "output_type": "stream",
     "text": [
      "Before cleaning: 205\n"
     ]
    }
   ],
   "source": [
    "#Prep, snapshot + backup\n",
    "orig_rows = len(df)\n",
    "print(\"Before cleaning:\", orig_rows)"
   ]
  },
  {
   "cell_type": "code",
   "execution_count": 17,
   "id": "b70c6dc5",
   "metadata": {},
   "outputs": [],
   "source": [
    "df_raw = df.copy()  #safety copy"
   ]
  },
  {
   "cell_type": "code",
   "execution_count": 18,
   "id": "426cf8d9",
   "metadata": {},
   "outputs": [
    {
     "data": {
      "text/plain": [
       "TransactionID      0.975610\n",
       "Price              0.975610\n",
       "CustomerID         0.424390\n",
       "TransactionDate    0.063415\n",
       "Product            0.039024\n",
       "Region             0.024390\n",
       "Category           0.019512\n",
       "Quantity           0.019512\n",
       "dtype: float64"
      ]
     },
     "execution_count": 18,
     "metadata": {},
     "output_type": "execute_result"
    }
   ],
   "source": [
    "#search for business-key, quick check which columns look high-cardinality(good key candidates). Values close to 1.0 (100%) are often unique identifiers.\n",
    "(df.nunique().sort_values(ascending=False) / len(df)).head(10)"
   ]
  },
  {
   "cell_type": "code",
   "execution_count": 19,
   "id": "1160b6ec",
   "metadata": {},
   "outputs": [
    {
     "data": {
      "text/plain": [
       "False"
      ]
     },
     "execution_count": 19,
     "metadata": {},
     "output_type": "execute_result"
    }
   ],
   "source": [
    "#chech the TransactionID uniqueness\n",
    "df['TransactionID'].is_unique"
   ]
  },
  {
   "cell_type": "code",
   "execution_count": 20,
   "id": "59edd08d",
   "metadata": {},
   "outputs": [
    {
     "data": {
      "text/plain": [
       "np.int64(5)"
      ]
     },
     "execution_count": 20,
     "metadata": {},
     "output_type": "execute_result"
    }
   ],
   "source": [
    "#Count how many duplicates exist\n",
    "df['TransactionID'].duplicated().sum()"
   ]
  },
  {
   "cell_type": "markdown",
   "id": "08b85f98",
   "metadata": {},
   "source": [
    "# Detect duplicates"
   ]
  },
  {
   "cell_type": "markdown",
   "id": "a552ea66",
   "metadata": {},
   "source": [
    "\n",
    "\n",
    "1) Exact row duplicates"
   ]
  },
  {
   "cell_type": "code",
   "execution_count": 22,
   "id": "00e492c2",
   "metadata": {},
   "outputs": [
    {
     "data": {
      "text/plain": [
       "np.int64(10)"
      ]
     },
     "execution_count": 22,
     "metadata": {},
     "output_type": "execute_result"
    }
   ],
   "source": [
    "#Exact row duplicates (all columns identical)\n",
    "exact_dupe_count = df.duplicated(keep=False).sum()\n",
    "exact_dupe_count"
   ]
  },
  {
   "cell_type": "code",
   "execution_count": 23,
   "id": "5e982dd6",
   "metadata": {},
   "outputs": [
    {
     "data": {
      "text/html": [
       "<div>\n",
       "<style scoped>\n",
       "    .dataframe tbody tr th:only-of-type {\n",
       "        vertical-align: middle;\n",
       "    }\n",
       "\n",
       "    .dataframe tbody tr th {\n",
       "        vertical-align: top;\n",
       "    }\n",
       "\n",
       "    .dataframe thead th {\n",
       "        text-align: right;\n",
       "    }\n",
       "</style>\n",
       "<table border=\"1\" class=\"dataframe\">\n",
       "  <thead>\n",
       "    <tr style=\"text-align: right;\">\n",
       "      <th></th>\n",
       "      <th>TransactionID</th>\n",
       "      <th>CustomerID</th>\n",
       "      <th>Product</th>\n",
       "      <th>Category</th>\n",
       "      <th>Quantity</th>\n",
       "      <th>Price</th>\n",
       "      <th>TransactionDate</th>\n",
       "      <th>Region</th>\n",
       "    </tr>\n",
       "  </thead>\n",
       "  <tbody>\n",
       "    <tr>\n",
       "      <th>15</th>\n",
       "      <td>Txn00016</td>\n",
       "      <td>Cust0053</td>\n",
       "      <td>Mouse</td>\n",
       "      <td>Unknown</td>\n",
       "      <td>4</td>\n",
       "      <td>412.34</td>\n",
       "      <td>NaT</td>\n",
       "      <td>East</td>\n",
       "    </tr>\n",
       "    <tr>\n",
       "      <th>201</th>\n",
       "      <td>Txn00016</td>\n",
       "      <td>Cust0053</td>\n",
       "      <td>Mouse</td>\n",
       "      <td>Unknown</td>\n",
       "      <td>4</td>\n",
       "      <td>412.34</td>\n",
       "      <td>NaT</td>\n",
       "      <td>East</td>\n",
       "    </tr>\n",
       "    <tr>\n",
       "      <th>30</th>\n",
       "      <td>Txn00031</td>\n",
       "      <td>Cust0091</td>\n",
       "      <td>Smartphone</td>\n",
       "      <td>Unknown</td>\n",
       "      <td>1</td>\n",
       "      <td>752.92</td>\n",
       "      <td>NaT</td>\n",
       "      <td>South</td>\n",
       "    </tr>\n",
       "    <tr>\n",
       "      <th>202</th>\n",
       "      <td>Txn00031</td>\n",
       "      <td>Cust0091</td>\n",
       "      <td>Smartphone</td>\n",
       "      <td>Unknown</td>\n",
       "      <td>1</td>\n",
       "      <td>752.92</td>\n",
       "      <td>NaT</td>\n",
       "      <td>South</td>\n",
       "    </tr>\n",
       "    <tr>\n",
       "      <th>95</th>\n",
       "      <td>Txn00096</td>\n",
       "      <td>Cust0085</td>\n",
       "      <td>Mouse</td>\n",
       "      <td>Gadgets</td>\n",
       "      <td>3</td>\n",
       "      <td>142.13</td>\n",
       "      <td>2021-06-12</td>\n",
       "      <td>North</td>\n",
       "    </tr>\n",
       "    <tr>\n",
       "      <th>200</th>\n",
       "      <td>Txn00096</td>\n",
       "      <td>Cust0085</td>\n",
       "      <td>Mouse</td>\n",
       "      <td>Gadgets</td>\n",
       "      <td>3</td>\n",
       "      <td>142.13</td>\n",
       "      <td>2021-06-12</td>\n",
       "      <td>North</td>\n",
       "    </tr>\n",
       "    <tr>\n",
       "      <th>128</th>\n",
       "      <td>Txn00129</td>\n",
       "      <td>Cust0012</td>\n",
       "      <td>Smartphone</td>\n",
       "      <td>Unknown</td>\n",
       "      <td>1</td>\n",
       "      <td>1055.89</td>\n",
       "      <td>NaT</td>\n",
       "      <td>North</td>\n",
       "    </tr>\n",
       "    <tr>\n",
       "      <th>204</th>\n",
       "      <td>Txn00129</td>\n",
       "      <td>Cust0012</td>\n",
       "      <td>Smartphone</td>\n",
       "      <td>Unknown</td>\n",
       "      <td>1</td>\n",
       "      <td>1055.89</td>\n",
       "      <td>NaT</td>\n",
       "      <td>North</td>\n",
       "    </tr>\n",
       "    <tr>\n",
       "      <th>158</th>\n",
       "      <td>Txn00159</td>\n",
       "      <td>Cust0063</td>\n",
       "      <td>Keyboard</td>\n",
       "      <td>Electronics</td>\n",
       "      <td>4</td>\n",
       "      <td>674.10</td>\n",
       "      <td>NaT</td>\n",
       "      <td>West</td>\n",
       "    </tr>\n",
       "    <tr>\n",
       "      <th>203</th>\n",
       "      <td>Txn00159</td>\n",
       "      <td>Cust0063</td>\n",
       "      <td>Keyboard</td>\n",
       "      <td>Electronics</td>\n",
       "      <td>4</td>\n",
       "      <td>674.10</td>\n",
       "      <td>NaT</td>\n",
       "      <td>West</td>\n",
       "    </tr>\n",
       "  </tbody>\n",
       "</table>\n",
       "</div>"
      ],
      "text/plain": [
       "    TransactionID CustomerID     Product     Category  Quantity    Price  \\\n",
       "15       Txn00016   Cust0053       Mouse      Unknown         4   412.34   \n",
       "201      Txn00016   Cust0053       Mouse      Unknown         4   412.34   \n",
       "30       Txn00031   Cust0091  Smartphone      Unknown         1   752.92   \n",
       "202      Txn00031   Cust0091  Smartphone      Unknown         1   752.92   \n",
       "95       Txn00096   Cust0085       Mouse      Gadgets         3   142.13   \n",
       "200      Txn00096   Cust0085       Mouse      Gadgets         3   142.13   \n",
       "128      Txn00129   Cust0012  Smartphone      Unknown         1  1055.89   \n",
       "204      Txn00129   Cust0012  Smartphone      Unknown         1  1055.89   \n",
       "158      Txn00159   Cust0063    Keyboard  Electronics         4   674.10   \n",
       "203      Txn00159   Cust0063    Keyboard  Electronics         4   674.10   \n",
       "\n",
       "    TransactionDate Region  \n",
       "15              NaT   East  \n",
       "201             NaT   East  \n",
       "30              NaT  South  \n",
       "202             NaT  South  \n",
       "95       2021-06-12  North  \n",
       "200      2021-06-12  North  \n",
       "128             NaT  North  \n",
       "204             NaT  North  \n",
       "158             NaT   West  \n",
       "203             NaT   West  "
      ]
     },
     "execution_count": 23,
     "metadata": {},
     "output_type": "execute_result"
    }
   ],
   "source": [
    "#preview Exact row duplicates for top 10 columns\n",
    "df[df.duplicated(keep=False)].sort_values(df.columns.tolist()).head(10)"
   ]
  },
  {
   "cell_type": "markdown",
   "id": "21b73211",
   "metadata": {},
   "source": []
  },
  {
   "cell_type": "markdown",
   "id": "85ccb867",
   "metadata": {},
   "source": [
    "2) Key-based duplicates (same ID appearing multiple times)"
   ]
  },
  {
   "cell_type": "code",
   "execution_count": 24,
   "id": "0012b558",
   "metadata": {},
   "outputs": [
    {
     "data": {
      "text/plain": [
       "np.int64(10)"
      ]
     },
     "execution_count": 24,
     "metadata": {},
     "output_type": "execute_result"
    }
   ],
   "source": [
    "key_cols = ['TransactionID'] \n",
    "key_dupe_count = df.duplicated(subset=key_cols, keep=False).sum()\n",
    "key_dupe_count"
   ]
  },
  {
   "cell_type": "code",
   "execution_count": 25,
   "id": "7abb0984",
   "metadata": {},
   "outputs": [
    {
     "data": {
      "text/html": [
       "<div>\n",
       "<style scoped>\n",
       "    .dataframe tbody tr th:only-of-type {\n",
       "        vertical-align: middle;\n",
       "    }\n",
       "\n",
       "    .dataframe tbody tr th {\n",
       "        vertical-align: top;\n",
       "    }\n",
       "\n",
       "    .dataframe thead th {\n",
       "        text-align: right;\n",
       "    }\n",
       "</style>\n",
       "<table border=\"1\" class=\"dataframe\">\n",
       "  <thead>\n",
       "    <tr style=\"text-align: right;\">\n",
       "      <th></th>\n",
       "      <th>TransactionID</th>\n",
       "      <th>count</th>\n",
       "    </tr>\n",
       "  </thead>\n",
       "  <tbody>\n",
       "    <tr>\n",
       "      <th>15</th>\n",
       "      <td>Txn00016</td>\n",
       "      <td>2</td>\n",
       "    </tr>\n",
       "    <tr>\n",
       "      <th>30</th>\n",
       "      <td>Txn00031</td>\n",
       "      <td>2</td>\n",
       "    </tr>\n",
       "    <tr>\n",
       "      <th>95</th>\n",
       "      <td>Txn00096</td>\n",
       "      <td>2</td>\n",
       "    </tr>\n",
       "    <tr>\n",
       "      <th>128</th>\n",
       "      <td>Txn00129</td>\n",
       "      <td>2</td>\n",
       "    </tr>\n",
       "    <tr>\n",
       "      <th>158</th>\n",
       "      <td>Txn00159</td>\n",
       "      <td>2</td>\n",
       "    </tr>\n",
       "  </tbody>\n",
       "</table>\n",
       "</div>"
      ],
      "text/plain": [
       "    TransactionID  count\n",
       "15       Txn00016      2\n",
       "30       Txn00031      2\n",
       "95       Txn00096      2\n",
       "128      Txn00129      2\n",
       "158      Txn00159      2"
      ]
     },
     "execution_count": 25,
     "metadata": {},
     "output_type": "execute_result"
    }
   ],
   "source": [
    "#See which keys repeat and how often:\n",
    "dupe_keys = (df.groupby(key_cols)\n",
    "               .size()\n",
    "               .reset_index(name='count')\n",
    "               .query('count > 1')\n",
    "               .sort_values('count', ascending=False))\n",
    "dupe_keys.head(10)"
   ]
  },
  {
   "cell_type": "code",
   "execution_count": 26,
   "id": "6b644561",
   "metadata": {},
   "outputs": [],
   "source": [
    "#removes all the duplicates, keeps the first\n",
    "df = df.drop_duplicates()"
   ]
  },
  {
   "cell_type": "code",
   "execution_count": 27,
   "id": "db9d4417",
   "metadata": {},
   "outputs": [
    {
     "data": {
      "text/plain": [
       "np.int64(0)"
      ]
     },
     "execution_count": 27,
     "metadata": {},
     "output_type": "execute_result"
    }
   ],
   "source": [
    "#to see if it worked:\n",
    "df.duplicated().sum()           "
   ]
  },
  {
   "cell_type": "markdown",
   "id": "3b3cfa75",
   "metadata": {},
   "source": [
    "# standardize inconsistent date formats"
   ]
  },
  {
   "cell_type": "code",
   "execution_count": 28,
   "id": "f7f43bcf",
   "metadata": {},
   "outputs": [
    {
     "data": {
      "text/plain": [
       "0   2021-12-04\n",
       "1          NaT\n",
       "2          NaT\n",
       "3          NaT\n",
       "4          NaT\n",
       "5          NaT\n",
       "6          NaT\n",
       "7          NaT\n",
       "8          NaT\n",
       "9          NaT\n",
       "Name: TransactionDate, dtype: datetime64[ns]"
      ]
     },
     "execution_count": 28,
     "metadata": {},
     "output_type": "execute_result"
    }
   ],
   "source": [
    "df[\"TransactionDate\"].head(10)"
   ]
  },
  {
   "cell_type": "code",
   "execution_count": 29,
   "id": "2cb81a44",
   "metadata": {},
   "outputs": [
    {
     "data": {
      "text/plain": [
       "0    2021-12-04\n",
       "1    12/04/2022\n",
       "2    27/01/2022\n",
       "3    22/10/2022\n",
       "4    17/05/2021\n",
       "5    06/10/2021\n",
       "6    26/12/2022\n",
       "7    01/09/2021\n",
       "8    22/07/2021\n",
       "9    05/01/2022\n",
       "Name: TransactionDate, dtype: object"
      ]
     },
     "execution_count": 29,
     "metadata": {},
     "output_type": "execute_result"
    }
   ],
   "source": [
    "#Let’s inspect a few of the raw values before pandas converted them\n",
    "df_raw = pd.read_csv(data_path, dtype=str)\n",
    "df_raw[\"TransactionDate\"].head(10)"
   ]
  },
  {
   "cell_type": "code",
   "execution_count": 30,
   "id": "3d8d3f5d",
   "metadata": {},
   "outputs": [
    {
     "data": {
      "text/plain": [
       "TransactionDate\n",
       "False    191\n",
       "True      14\n",
       "Name: count, dtype: int64"
      ]
     },
     "execution_count": 30,
     "metadata": {},
     "output_type": "execute_result"
    }
   ],
   "source": [
    "df_raw[\"TransactionDate\"].str.contains(\"-\").value_counts()\n"
   ]
  },
  {
   "cell_type": "code",
   "execution_count": 31,
   "id": "97fab76d",
   "metadata": {},
   "outputs": [],
   "source": [
    "df_raw[\"TransactionDate\"] = pd.to_datetime(\n",
    "    df_raw[\"TransactionDate\"], \n",
    "    dayfirst=True, \n",
    "    errors=\"coerce\"\n",
    ")\n"
   ]
  },
  {
   "cell_type": "code",
   "execution_count": 33,
   "id": "ad6d96b8",
   "metadata": {},
   "outputs": [
    {
     "data": {
      "text/plain": [
       "dtype('<M8[ns]')"
      ]
     },
     "execution_count": 33,
     "metadata": {},
     "output_type": "execute_result"
    }
   ],
   "source": [
    "df_raw[\"TransactionDate\"].dtype\n",
    "#pandas successfully converted your TransactionDate column \n",
    "#into true datetime objects"
   ]
  },
  {
   "cell_type": "code",
   "execution_count": 36,
   "id": "65a24eea",
   "metadata": {},
   "outputs": [],
   "source": [
    "#temporarily turn the column’s values into strings\n",
    "#wrap the column with .astype(str) before using .str.contains(\"/\")\n",
    "mask = df_raw[\"TransactionDate\"].astype(str).str.contains(\"/\")\n"
   ]
  },
  {
   "cell_type": "code",
   "execution_count": 38,
   "id": "31029806",
   "metadata": {},
   "outputs": [],
   "source": [
    "#Finds all rows with slashes (mask)\n",
    "#Converts only those using the exact format day/month/year.\n",
    "#Leaves dash-style dates untouched.\n",
    "#Keeps everything in one column, fully standardized.\n",
    "mask = df_raw[\"TransactionDate\"].astype(str).str.contains(\"/\")\n",
    "\n",
    "df_raw.loc[mask, \"TransactionDate\"] = pd.to_datetime(\n",
    "    df_raw.loc[mask, \"TransactionDate\"],\n",
    "    format=\"%d/%m/%Y\",\n",
    "    errors=\"coerce\"\n",
    ")\n"
   ]
  },
  {
   "cell_type": "code",
   "execution_count": 40,
   "id": "54cb6815",
   "metadata": {},
   "outputs": [
    {
     "data": {
      "text/plain": [
       "0   2021-04-12\n",
       "1          NaT\n",
       "2          NaT\n",
       "3          NaT\n",
       "4          NaT\n",
       "5          NaT\n",
       "6          NaT\n",
       "7          NaT\n",
       "8          NaT\n",
       "9          NaT\n",
       "Name: TransactionDate, dtype: datetime64[ns]"
      ]
     },
     "execution_count": 40,
     "metadata": {},
     "output_type": "execute_result"
    }
   ],
   "source": [
    "df_raw[\"TransactionDate\"].head(10)"
   ]
  },
  {
   "cell_type": "code",
   "execution_count": 41,
   "id": "8adcb174",
   "metadata": {},
   "outputs": [
    {
     "data": {
      "text/plain": [
       "Series([], Name: TransactionDate, dtype: datetime64[ns])"
      ]
     },
     "execution_count": 41,
     "metadata": {},
     "output_type": "execute_result"
    }
   ],
   "source": [
    "df_raw.loc[mask & df_raw[\"TransactionDate\"].isna(), \"TransactionDate\"]\n"
   ]
  },
  {
   "cell_type": "code",
   "execution_count": 43,
   "id": "a7be0bfa",
   "metadata": {},
   "outputs": [
    {
     "data": {
      "text/html": [
       "<div>\n",
       "<style scoped>\n",
       "    .dataframe tbody tr th:only-of-type {\n",
       "        vertical-align: middle;\n",
       "    }\n",
       "\n",
       "    .dataframe tbody tr th {\n",
       "        vertical-align: top;\n",
       "    }\n",
       "\n",
       "    .dataframe thead th {\n",
       "        text-align: right;\n",
       "    }\n",
       "</style>\n",
       "<table border=\"1\" class=\"dataframe\">\n",
       "  <thead>\n",
       "    <tr style=\"text-align: right;\">\n",
       "      <th></th>\n",
       "      <th>TransactionID</th>\n",
       "      <th>CustomerID</th>\n",
       "      <th>Product</th>\n",
       "      <th>Category</th>\n",
       "      <th>Quantity</th>\n",
       "      <th>Price</th>\n",
       "      <th>TransactionDate</th>\n",
       "      <th>Region</th>\n",
       "    </tr>\n",
       "  </thead>\n",
       "  <tbody>\n",
       "    <tr>\n",
       "      <th>1</th>\n",
       "      <td>TXN00002</td>\n",
       "      <td>CUST0093</td>\n",
       "      <td>Monitor</td>\n",
       "      <td>NaN</td>\n",
       "      <td>2</td>\n",
       "      <td>1364.68</td>\n",
       "      <td>NaT</td>\n",
       "      <td>East</td>\n",
       "    </tr>\n",
       "    <tr>\n",
       "      <th>2</th>\n",
       "      <td>TXN00003</td>\n",
       "      <td>CUST0015</td>\n",
       "      <td>Smartphone</td>\n",
       "      <td>Accessories</td>\n",
       "      <td>1</td>\n",
       "      <td>1004.3</td>\n",
       "      <td>NaT</td>\n",
       "      <td>East</td>\n",
       "    </tr>\n",
       "    <tr>\n",
       "      <th>3</th>\n",
       "      <td>TXN00004</td>\n",
       "      <td>CUST0072</td>\n",
       "      <td>Mouse</td>\n",
       "      <td>NaN</td>\n",
       "      <td>1</td>\n",
       "      <td>91.89</td>\n",
       "      <td>NaT</td>\n",
       "      <td>South</td>\n",
       "    </tr>\n",
       "    <tr>\n",
       "      <th>4</th>\n",
       "      <td>TXN00005</td>\n",
       "      <td>CUST0061</td>\n",
       "      <td>Laptop</td>\n",
       "      <td>Accessories</td>\n",
       "      <td>3</td>\n",
       "      <td>1719.75</td>\n",
       "      <td>NaT</td>\n",
       "      <td>NaN</td>\n",
       "    </tr>\n",
       "    <tr>\n",
       "      <th>5</th>\n",
       "      <td>TXN00006</td>\n",
       "      <td>CUST0021</td>\n",
       "      <td>Monitor</td>\n",
       "      <td>Accessories</td>\n",
       "      <td>2</td>\n",
       "      <td>1108.25</td>\n",
       "      <td>NaT</td>\n",
       "      <td>South</td>\n",
       "    </tr>\n",
       "    <tr>\n",
       "      <th>6</th>\n",
       "      <td>TXN00007</td>\n",
       "      <td>CUST0083</td>\n",
       "      <td>Mouse</td>\n",
       "      <td>Gadgets</td>\n",
       "      <td>4</td>\n",
       "      <td>645.56</td>\n",
       "      <td>NaT</td>\n",
       "      <td>East</td>\n",
       "    </tr>\n",
       "    <tr>\n",
       "      <th>7</th>\n",
       "      <td>TXN00008</td>\n",
       "      <td>CUST0087</td>\n",
       "      <td>Tablet</td>\n",
       "      <td>NaN</td>\n",
       "      <td>4</td>\n",
       "      <td>572.66</td>\n",
       "      <td>NaT</td>\n",
       "      <td>North</td>\n",
       "    </tr>\n",
       "    <tr>\n",
       "      <th>8</th>\n",
       "      <td>TXN00009</td>\n",
       "      <td>CUST0075</td>\n",
       "      <td>Headphones</td>\n",
       "      <td>Accessories</td>\n",
       "      <td>3</td>\n",
       "      <td>1687.33</td>\n",
       "      <td>NaT</td>\n",
       "      <td>NaN</td>\n",
       "    </tr>\n",
       "    <tr>\n",
       "      <th>9</th>\n",
       "      <td>TXN00010</td>\n",
       "      <td>CUST0075</td>\n",
       "      <td>Laptop</td>\n",
       "      <td>NaN</td>\n",
       "      <td>3</td>\n",
       "      <td>647.58</td>\n",
       "      <td>NaT</td>\n",
       "      <td>North</td>\n",
       "    </tr>\n",
       "    <tr>\n",
       "      <th>10</th>\n",
       "      <td>TXN00011</td>\n",
       "      <td>CUST0088</td>\n",
       "      <td>Monitor</td>\n",
       "      <td>NaN</td>\n",
       "      <td>2</td>\n",
       "      <td>1644.28</td>\n",
       "      <td>NaT</td>\n",
       "      <td>West</td>\n",
       "    </tr>\n",
       "  </tbody>\n",
       "</table>\n",
       "</div>"
      ],
      "text/plain": [
       "   TransactionID CustomerID     Product     Category Quantity    Price  \\\n",
       "1       TXN00002   CUST0093     Monitor          NaN        2  1364.68   \n",
       "2       TXN00003   CUST0015  Smartphone  Accessories        1   1004.3   \n",
       "3       TXN00004   CUST0072       Mouse          NaN        1    91.89   \n",
       "4       TXN00005   CUST0061      Laptop  Accessories        3  1719.75   \n",
       "5       TXN00006   CUST0021     Monitor  Accessories        2  1108.25   \n",
       "6       TXN00007   CUST0083       Mouse      Gadgets        4   645.56   \n",
       "7       TXN00008   CUST0087      Tablet          NaN        4   572.66   \n",
       "8       TXN00009   CUST0075  Headphones  Accessories        3  1687.33   \n",
       "9       TXN00010   CUST0075      Laptop          NaN        3   647.58   \n",
       "10      TXN00011   CUST0088     Monitor          NaN        2  1644.28   \n",
       "\n",
       "   TransactionDate Region  \n",
       "1              NaT   East  \n",
       "2              NaT   East  \n",
       "3              NaT  South  \n",
       "4              NaT    NaN  \n",
       "5              NaT  South  \n",
       "6              NaT   East  \n",
       "7              NaT  North  \n",
       "8              NaT    NaN  \n",
       "9              NaT  North  \n",
       "10             NaT   West  "
      ]
     },
     "execution_count": 43,
     "metadata": {},
     "output_type": "execute_result"
    }
   ],
   "source": [
    "df_raw[df_raw[\"TransactionDate\"].isna()].head(10)\n"
   ]
  },
  {
   "cell_type": "code",
   "execution_count": 46,
   "id": "a164c0ec",
   "metadata": {},
   "outputs": [
    {
     "data": {
      "text/plain": [
       "TransactionDate\n",
       "False    205\n",
       "Name: count, dtype: Int64"
      ]
     },
     "execution_count": 46,
     "metadata": {},
     "output_type": "execute_result"
    }
   ],
   "source": [
    "df_raw[\"TransactionDate\"].astype(\"string\").str.contains(\"/\", na=False).value_counts()\n"
   ]
  },
  {
   "cell_type": "code",
   "execution_count": 51,
   "id": "375ba2e0",
   "metadata": {},
   "outputs": [],
   "source": [
    "df_raw[\"TransactionDate\"] = pd.to_datetime(\n",
    "    df_raw[\"TransactionDate\"],\n",
    "    format=\"%d/%m/%Y\",\n",
    "    errors=\"coerce\"\n",
    ")\n"
   ]
  },
  {
   "cell_type": "code",
   "execution_count": 92,
   "id": "4b74f818",
   "metadata": {},
   "outputs": [
    {
     "data": {
      "text/plain": [
       "0    2021-12-04\n",
       "1    12/04/2022\n",
       "2    27/01/2022\n",
       "3    22/10/2022\n",
       "4    17/05/2021\n",
       "5    06/10/2021\n",
       "6    26/12/2022\n",
       "7    01/09/2021\n",
       "8    22/07/2021\n",
       "9    05/01/2022\n",
       "Name: TransactionDate, dtype: object"
      ]
     },
     "execution_count": 92,
     "metadata": {},
     "output_type": "execute_result"
    }
   ],
   "source": [
    "df_raw[\"TransactionDate\"].head(10)"
   ]
  },
  {
   "cell_type": "code",
   "execution_count": 93,
   "id": "7807344c",
   "metadata": {},
   "outputs": [
    {
     "data": {
      "text/plain": [
       "0   2021-12-04\n",
       "1          NaT\n",
       "2          NaT\n",
       "3          NaT\n",
       "4          NaT\n",
       "5          NaT\n",
       "6          NaT\n",
       "7          NaT\n",
       "8          NaT\n",
       "9          NaT\n",
       "Name: TransactionDate, dtype: datetime64[ns]"
      ]
     },
     "execution_count": 93,
     "metadata": {},
     "output_type": "execute_result"
    }
   ],
   "source": [
    "df[\"TransactionDate\"] = pd.to_datetime(df[\"TransactionDate\"], dayfirst=True, errors=\"coerce\")\n",
    "df[\"TransactionDate\"].head(10)\n"
   ]
  },
  {
   "cell_type": "code",
   "execution_count": 60,
   "id": "55416044",
   "metadata": {},
   "outputs": [
    {
     "name": "stdout",
     "output_type": "stream",
     "text": [
      "<class 'pandas.core.frame.DataFrame'>\n",
      "RangeIndex: 205 entries, 0 to 204\n",
      "Data columns (total 8 columns):\n",
      " #   Column           Non-Null Count  Dtype \n",
      "---  ------           --------------  ----- \n",
      " 0   TransactionID    205 non-null    object\n",
      " 1   CustomerID       205 non-null    object\n",
      " 2   Product          205 non-null    object\n",
      " 3   Category         156 non-null    object\n",
      " 4   Quantity         205 non-null    object\n",
      " 5   Price            205 non-null    object\n",
      " 6   TransactionDate  205 non-null    object\n",
      " 7   Region           167 non-null    object\n",
      "dtypes: object(8)\n",
      "memory usage: 12.9+ KB\n"
     ]
    }
   ],
   "source": [
    "df_raw = pd.read_csv(\"retail_sales_data.csv\", dtype=str)\n",
    "df_raw.info()\n"
   ]
  },
  {
   "cell_type": "code",
   "execution_count": 94,
   "id": "b1647d99",
   "metadata": {},
   "outputs": [],
   "source": [
    "#turn all the dates to yyyy-mm-dd format\n",
    "def parse_mixed_dates(date_str):\n",
    "    if pd.isna(date_str):\n",
    "        return pd.NaT\n",
    "    if \"/\" in date_str:\n",
    "        return pd.to_datetime(date_str, dayfirst=True, errors=\"coerce\")\n",
    "    elif \"-\" in date_str:\n",
    "        return pd.to_datetime(date_str, errors=\"coerce\")\n",
    "    else:\n",
    "        return pd.NaT\n",
    "\n",
    "df_raw[\"TransactionDate_clean\"] = df_raw[\"TransactionDate\"].apply(parse_mixed_dates)\n"
   ]
  },
  {
   "cell_type": "code",
   "execution_count": 95,
   "id": "98af0e0e",
   "metadata": {},
   "outputs": [
    {
     "data": {
      "text/plain": [
       "0   2021-12-04\n",
       "1   2022-04-12\n",
       "2   2022-01-27\n",
       "3   2022-10-22\n",
       "4   2021-05-17\n",
       "5   2021-10-06\n",
       "6   2022-12-26\n",
       "7   2021-09-01\n",
       "8   2021-07-22\n",
       "9   2022-01-05\n",
       "Name: TransactionDate_clean, dtype: datetime64[ns]"
      ]
     },
     "execution_count": 95,
     "metadata": {},
     "output_type": "execute_result"
    }
   ],
   "source": [
    "#now let's see if it worked\n",
    "df_raw[\"TransactionDate_clean\"].head(10)\n"
   ]
  },
  {
   "cell_type": "markdown",
   "id": "58441de3",
   "metadata": {},
   "source": [
    "# Visualization"
   ]
  },
  {
   "cell_type": "code",
   "execution_count": 105,
   "id": "608fc1c5",
   "metadata": {},
   "outputs": [],
   "source": [
    "import matplotlib.pyplot as plt\n",
    "import numpy as np"
   ]
  },
  {
   "cell_type": "code",
   "execution_count": 97,
   "id": "ab843fe6",
   "metadata": {},
   "outputs": [],
   "source": [
    "#Optionally, if you want prettier styles:\n",
    "plt.style.use(\"seaborn-v0_8-whitegrid\")\n"
   ]
  },
  {
   "cell_type": "markdown",
   "id": "625bebf8",
   "metadata": {},
   "source": [
    "# 1-Sales trend over time"
   ]
  },
  {
   "cell_type": "markdown",
   "id": "573aaa89",
   "metadata": {},
   "source": [
    "To see how sales change month by month, we’ll:\n",
    "\n",
    "1-Group by month using TransactionDate\n",
    "\n",
    "2-Sum up the Sales per month\n",
    "\n",
    "3-Plot a line chart using matplotlib"
   ]
  },
  {
   "cell_type": "code",
   "execution_count": 81,
   "id": "baeb0af9",
   "metadata": {},
   "outputs": [],
   "source": [
    "#group data by month to get total monthly sales\n",
    "monthly_sales = df.groupby(df[\"TransactionDate\"].dt.to_period(\"M\"))[\"Sales\"].sum()"
   ]
  },
  {
   "cell_type": "code",
   "execution_count": 82,
   "id": "9f3fe605",
   "metadata": {},
   "outputs": [
    {
     "data": {
      "text/plain": [
       "TransactionDate\n",
       "2021-01    11221.20\n",
       "2021-03     1849.80\n",
       "2021-06      426.39\n",
       "2021-07     4108.83\n",
       "2021-11     2306.67\n",
       "Freq: M, Name: Sales, dtype: float64"
      ]
     },
     "execution_count": 82,
     "metadata": {},
     "output_type": "execute_result"
    }
   ],
   "source": [
    "#Let’s check if the grouping worked.\n",
    "monthly_sales.head()"
   ]
  },
  {
   "cell_type": "code",
   "execution_count": 83,
   "id": "6058cf22",
   "metadata": {},
   "outputs": [
    {
     "data": {
      "image/png": "[encoded data removed]",
      "text/plain": [
       "<Figure size 1000x500 with 1 Axes>"
      ]
     },
     "metadata": {},
     "output_type": "display_data"
    }
   ],
   "source": [
    "plt.figure(figsize=(10, 5))\n",
    "plt.plot(monthly_sales.index.astype(str), monthly_sales.values, marker='o')\n",
    "plt.title(\"Monthly Sales Trend\")\n",
    "plt.xlabel(\"Month\")\n",
    "plt.ylabel(\"Total Sales\")\n",
    "plt.grid(True)\n",
    "plt.show()\n"
   ]
  },
  {
   "cell_type": "markdown",
   "id": "f539fc0b",
   "metadata": {},
   "source": [
    "# 2-Category comparison"
   ]
  },
  {
   "cell_type": "markdown",
   "id": "90ae2422",
   "metadata": {},
   "source": [
    "visualize sales by product category to see which categories earn the most"
   ]
  },
  {
   "cell_type": "code",
   "execution_count": 85,
   "id": "2506c9c7",
   "metadata": {},
   "outputs": [
    {
     "data": {
      "text/plain": [
       "Category\n",
       "Electronics    145302.73\n",
       "Accessories    139236.48\n",
       "Unknown        131365.45\n",
       "Gadgets        123829.47\n",
       "Name: Sales, dtype: float64"
      ]
     },
     "execution_count": 85,
     "metadata": {},
     "output_type": "execute_result"
    }
   ],
   "source": [
    "#visualize sales by product category to see which categories earn the most\n",
    "category_sales = df.groupby(\"Category\")[\"Sales\"].sum().sort_values(ascending=False)\n",
    "category_sales\n"
   ]
  },
  {
   "cell_type": "markdown",
   "id": "0278cc00",
   "metadata": {},
   "source": [
    "A bar chart for category sales"
   ]
  },
  {
   "cell_type": "code",
   "execution_count": 86,
   "id": "747e842b",
   "metadata": {},
   "outputs": [
    {
     "data": {
      "image/png": "[encoded data removed]",
      "text/plain": [
       "<Figure size 800x500 with 1 Axes>"
      ]
     },
     "metadata": {},
     "output_type": "display_data"
    }
   ],
   "source": [
    "#We’ll use a bar plot, which is perfect for category comparisons\n",
    "plt.figure(figsize=(8, 5))\n",
    "plt.bar(category_sales.index, category_sales.values)\n",
    "plt.title(\"Total sales by category\")\n",
    "plt.xlabel(\"Category\")\n",
    "plt.ylabel(\"Total sales\")\n",
    "plt.show()"
   ]
  },
  {
   "cell_type": "code",
   "execution_count": null,
   "id": "651dfc6a",
   "metadata": {},
   "outputs": [],
   "source": []
  },
  {
   "cell_type": "markdown",
   "id": "a27495f1",
   "metadata": {},
   "source": [
    "# 3-Top customers by total sales"
   ]
  },
  {
   "cell_type": "code",
   "execution_count": 87,
   "id": "500847bc",
   "metadata": {},
   "outputs": [],
   "source": [
    "#Next visualization, Top customers by total sales\n",
    "#This helps you spot your most valuable customers\n",
    "#Conceptually, it’s the same pattern:\n",
    "#1-Group by CustomerID\n",
    "#2-Sum their Sales\n",
    "#3-Sort descending\n",
    "#4-Plot a bar chart (often horizontal, for readability)\n",
    "top_customers = df.groupby(\"CustomerID\")[\"Sales\"].sum().sort_values(ascending=False).head(10)"
   ]
  },
  {
   "cell_type": "code",
   "execution_count": 88,
   "id": "076c492b",
   "metadata": {},
   "outputs": [
    {
     "data": {
      "image/png": "[encoded data removed]",
      "text/plain": [
       "<Figure size 800x500 with 1 Axes>"
      ]
     },
     "metadata": {},
     "output_type": "display_data"
    }
   ],
   "source": [
    "#Let’s visualize them with a horizontal bar chart (better for long names)\n",
    "plt.figure(figsize=(8, 5))\n",
    "plt.barh(top_customers.index, top_customers.values)\n",
    "plt.title(\"Top 10 customers by sales\")\n",
    "plt.xlabel(\"Total sales\")\n",
    "plt.ylabel(\"CustomerID\")\n",
    "plt.show()"
   ]
  },
  {
   "cell_type": "code",
   "execution_count": 103,
   "id": "b52cde5e",
   "metadata": {},
   "outputs": [
    {
     "data": {
      "text/plain": [
       "['TransactionID',\n",
       " 'CustomerID',\n",
       " 'Product',\n",
       " 'Category',\n",
       " 'Quantity',\n",
       " 'Price',\n",
       " 'TransactionDate',\n",
       " 'Region',\n",
       " 'TransactionDate_clean',\n",
       " 'Sales']"
      ]
     },
     "execution_count": 103,
     "metadata": {},
     "output_type": "execute_result"
    }
   ],
   "source": [
    "df_raw[\"Sales\"] = df_raw[\"Price\"].astype(float) * df_raw[\"Quantity\"].astype(float)\n",
    "df_raw.columns.tolist()\n"
   ]
  },
  {
   "cell_type": "code",
   "execution_count": 113,
   "id": "1c6c54b9",
   "metadata": {},
   "outputs": [
    {
     "data": {
      "image/png": "[encoded data removed]",
      "text/plain": [
       "<Figure size 640x480 with 1 Axes>"
      ]
     },
     "metadata": {},
     "output_type": "display_data"
    }
   ],
   "source": [
    "#Scatter plot of Price vs. Quantity to see if there’s any correlation\n",
    "plt.scatter(df[\"Quantity\"], df[\"Sales\"], c=\"#00f\", marker=\"o\", s=5)\n",
    "plt.title(\"Relationship between Quantity and Sales\")\n",
    "plt.xlabel(\"Quantity\")\n",
    "plt.ylabel(\"Sales\")\n",
    "plt.show()\n"
   ]
  },
  {
   "cell_type": "markdown",
   "id": "3603b0aa",
   "metadata": {},
   "source": [
    "# Sales Distribution (Histogram)"
   ]
  },
  {
   "cell_type": "markdown",
   "id": "08a3c0fd",
   "metadata": {},
   "source": []
  },
  {
   "cell_type": "code",
   "execution_count": 123,
   "id": "c43f2b19",
   "metadata": {},
   "outputs": [
    {
     "data": {
      "image/png": "[encoded data removed]",
      "text/plain": [
       "<Figure size 640x480 with 1 Axes>"
      ]
     },
     "metadata": {},
     "output_type": "display_data"
    }
   ],
   "source": [
    "#See how sales amounts are spread\n",
    "#are most orders small, medium, or large?\n",
    "\n",
    "# Create a histogram of the 'Sales' column\n",
    "plt.hist(df['Sales'], bins=20, color='green', edgecolor='black')\n",
    "\n",
    "# Add a title for clarity\n",
    "plt.title('Sales Distribution', fontsize=14)\n",
    "\n",
    "# Label the axes\n",
    "plt.xlabel('Sales Amount', fontsize=12)\n",
    "plt.ylabel('Number of Orders', fontsize=12)\n",
    "\n",
    "# Optional: Add a grid to make it easier to read\n",
    "plt.grid(True, linestyle='--', alpha=0.6)\n",
    "\n",
    "# Show the plot\n",
    "plt.show()\n"
   ]
  },
  {
   "cell_type": "code",
   "execution_count": null,
   "id": "b063607c",
   "metadata": {},
   "outputs": [],
   "source": []
  }
 ],
 "metadata": {
  "kernelspec": {
   "display_name": "3.11.10",
   "language": "python",
   "name": "python3"
  },
  "language_info": {
   "codemirror_mode": {
    "name": "ipython",
    "version": 3
   },
   "file_extension": ".py",
   "mimetype": "text/x-python",
   "name": "python",
   "nbconvert_exporter": "python",
   "pygments_lexer": "ipython3",
   "version": "3.11.10"
  }
 },
 "nbformat": 4,
 "nbformat_minor": 5
}
