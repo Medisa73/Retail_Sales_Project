{
 "cells": [
  {
   "cell_type": "markdown",
   "id": "de61322d",
   "metadata": {},
   "source": [
    "# Load data and review"
   ]
  },
  {
   "cell_type": "code",
   "execution_count": 62,
   "id": "d5058c47",
   "metadata": {},
   "outputs": [],
   "source": [
    "import pandas as pd\n",
    "\n",
    "def load_csv_from_path(path):\n",
    "    \"\"\"\n",
    "    This is a helper function which opens up a csv file using pandas\n",
    "\n",
    "    :param path: string indicating the csv file path\n",
    "    :return a pandas data frame\n",
    "    \"\"\"\n",
    "    return pd.read_csv(path)\n",
    "\n",
    "data_path = \"/Users/medisa/repos/Test/retail_sales_data.csv\"\n",
    "loaded_df = load_csv_from_path(data_path)\n"
   ]
  },
  {
   "cell_type": "code",
   "execution_count": 63,
   "id": "3852ab08",
   "metadata": {},
   "outputs": [
    {
     "name": "stdout",
     "output_type": "stream",
     "text": [
      "The first five rows of the data frame\n",
      "  TransactionID CustomerID     Product     Category  Quantity    Price  \\\n",
      "0      TXN00001   CUST0052      Camera  Electronics         1  1489.74   \n",
      "1      TXN00002   CUST0093     Monitor          NaN         2  1364.68   \n",
      "2      TXN00003   CUST0015  Smartphone  Accessories         1  1004.30   \n",
      "3      TXN00004   CUST0072       Mouse          NaN         1    91.89   \n",
      "4      TXN00005   CUST0061      Laptop  Accessories         3  1719.75   \n",
      "\n",
      "  TransactionDate Region  \n",
      "0      2021-12-04  North  \n",
      "1      12/04/2022   East  \n",
      "2      27/01/2022   East  \n",
      "3      22/10/2022  South  \n",
      "4      17/05/2021    NaN  \n",
      "\n",
      "\n",
      "\n",
      "Basic information about the Dataframe\n",
      "<class 'pandas.core.frame.DataFrame'>\n",
      "RangeIndex: 205 entries, 0 to 204\n",
      "Data columns (total 8 columns):\n",
      " #   Column           Non-Null Count  Dtype  \n",
      "---  ------           --------------  -----  \n",
      " 0   TransactionID    205 non-null    object \n",
      " 1   CustomerID       205 non-null    object \n",
      " 2   Product          205 non-null    object \n",
      " 3   Category         156 non-null    object \n",
      " 4   Quantity         205 non-null    int64  \n",
      " 5   Price            205 non-null    float64\n",
      " 6   TransactionDate  205 non-null    object \n",
      " 7   Region           167 non-null    object \n",
      "dtypes: float64(1), int64(1), object(6)\n",
      "memory usage: 12.9+ KB\n",
      "None\n",
      "\n",
      "\n",
      "\n",
      "Description of the data in the DataFrame\n",
      "         Quantity        Price\n",
      "count  205.000000   205.000000\n",
      "mean     2.653659  1007.179951\n",
      "std      1.159804   579.154213\n",
      "min      1.000000    24.210000\n",
      "25%      2.000000   504.320000\n",
      "50%      3.000000   932.760000\n",
      "75%      4.000000  1554.210000\n",
      "max      4.000000  1992.780000\n"
     ]
    }
   ],
   "source": [
    "def get_df_insights(data_frame):\n",
    "    \"\"\"\n",
    "    A function which would show some basic stats for the given data frame\n",
    "    \n",
    "    :param data_frame: a pandas data frame\n",
    "    :return None\n",
    "    \"\"\"\n",
    "    print(\"The first five rows of the data frame\")\n",
    "    print(data_frame.head())\n",
    "    print(\"\\n\\n\")\n",
    "    print(\"Basic information about the Dataframe\")\n",
    "    print(data_frame.info())\n",
    "    print(\"\\n\\n\")\n",
    "    print(\"Description of the data in the DataFrame\")\n",
    "    print(data_frame.describe())\n",
    "\n",
    "\n",
    "get_df_insights(loaded_df)\n"
   ]
  },
  {
   "cell_type": "code",
   "execution_count": 68,
   "id": "971ad3ad",
   "metadata": {},
   "outputs": [
    {
     "data": {
      "text/plain": [
       "TransactionID       0\n",
       "CustomerID          0\n",
       "Product             0\n",
       "Category           49\n",
       "Quantity            0\n",
       "Price               0\n",
       "TransactionDate     0\n",
       "Region             38\n",
       "dtype: int64"
      ]
     },
     "execution_count": 68,
     "metadata": {},
     "output_type": "execute_result"
    }
   ],
   "source": [
    "#Check which columns have missing values(to see where the gaps are). This shows for each column, how many missing(NaN) values I have.\n",
    "loaded_df.isnull().sum()"
   ]
  },
  {
   "cell_type": "code",
   "execution_count": null,
   "id": "e2100bd3",
   "metadata": {},
   "outputs": [
    {
     "data": {
      "text/plain": [
       "TransactionID      0\n",
       "CustomerID         0\n",
       "Product            0\n",
       "Category           0\n",
       "Quantity           0\n",
       "Price              0\n",
       "TransactionDate    0\n",
       "Region             0\n",
       "dtype: int64"
      ]
     },
     "execution_count": 65,
     "metadata": {},
     "output_type": "execute_result"
    }
   ],
   "source": [
    "# def fix_missing_values_in_retail_dataframe(data_frame):\n",
    "#     \"\"\"\n",
    "#     This function is for filling up the Region and Category column in retail dataset\n",
    "    \n",
    "#     :param data_frame: retail pandas dataframe\n",
    "#     :returns updated dataframe\n",
    "#     \"\"\"\n",
    "#     data_frame['Region'] = data_frame['Region'].fillna('Unknown')\n",
    "#     data_frame['Category'] = data_frame['Category'].fillna('Unknown')\n",
    "#     return data_frame\n",
    "\n",
    "def fix_missing_values_in_dataframe(data_frame, column_name):\n",
    "    \"\"\"\n",
    "    This function would get a column name and then replace the missing values in that\n",
    "    column with Unknown\n",
    "\n",
    "    :params data_frame: the pandas df which we want to modify\n",
    "    :params column_name: the name of the column to replace that missing values for\n",
    "    :returns updated data frame\n",
    "    \"\"\"\n",
    "    data_frame_copy = data_frame.copy()\n",
    "    data_frame_copy[column_name] = data_frame_copy[column_name].fillna(\"Unknown\")\n",
    "    return data_frame_copy\n",
    "\n",
    "\n",
    "fixed_category_df = fix_missing_values_in_dataframe(loaded_df, \"Category\")\n",
    "fixed_region_df = fix_missing_values_in_dataframe(fixed_category_df, \"Region\")\n",
    "\n",
    "\n",
    "fixed_region_df.isnull().sum()"
   ]
  },
  {
   "cell_type": "code",
   "execution_count": null,
   "id": "bfd18f46",
   "metadata": {},
   "outputs": [],
   "source": []
  },
  {
   "cell_type": "markdown",
   "id": "97b26f20",
   "metadata": {},
   "source": [
    "# Cleaning Data"
   ]
  },
  {
   "cell_type": "code",
   "execution_count": 4,
   "id": "73d791b8",
   "metadata": {},
   "outputs": [],
   "source": [
    "import pandas as pd\n",
    "\n",
    "data_path = \"/Users/medisa/repos/Test/retail_sales_data.csv\"\n",
    "df = pd.read_csv(data_path)"
   ]
  },
  {
   "cell_type": "code",
   "execution_count": 5,
   "id": "df39bdcb",
   "metadata": {},
   "outputs": [
    {
     "data": {
      "text/html": [
       "<div>\n",
       "<style scoped>\n",
       "    .dataframe tbody tr th:only-of-type {\n",
       "        vertical-align: middle;\n",
       "    }\n",
       "\n",
       "    .dataframe tbody tr th {\n",
       "        vertical-align: top;\n",
       "    }\n",
       "\n",
       "    .dataframe thead th {\n",
       "        text-align: right;\n",
       "    }\n",
       "</style>\n",
       "<table border=\"1\" class=\"dataframe\">\n",
       "  <thead>\n",
       "    <tr style=\"text-align: right;\">\n",
       "      <th></th>\n",
       "      <th>TransactionID</th>\n",
       "      <th>CustomerID</th>\n",
       "      <th>Product</th>\n",
       "      <th>Category</th>\n",
       "      <th>Quantity</th>\n",
       "      <th>Price</th>\n",
       "      <th>TransactionDate</th>\n",
       "      <th>Region</th>\n",
       "    </tr>\n",
       "  </thead>\n",
       "  <tbody>\n",
       "    <tr>\n",
       "      <th>0</th>\n",
       "      <td>TXN00001</td>\n",
       "      <td>CUST0052</td>\n",
       "      <td>Camera</td>\n",
       "      <td>Electronics</td>\n",
       "      <td>1</td>\n",
       "      <td>1489.74</td>\n",
       "      <td>2021-12-04</td>\n",
       "      <td>North</td>\n",
       "    </tr>\n",
       "    <tr>\n",
       "      <th>1</th>\n",
       "      <td>TXN00002</td>\n",
       "      <td>CUST0093</td>\n",
       "      <td>Monitor</td>\n",
       "      <td>NaN</td>\n",
       "      <td>2</td>\n",
       "      <td>1364.68</td>\n",
       "      <td>12/04/2022</td>\n",
       "      <td>East</td>\n",
       "    </tr>\n",
       "    <tr>\n",
       "      <th>2</th>\n",
       "      <td>TXN00003</td>\n",
       "      <td>CUST0015</td>\n",
       "      <td>Smartphone</td>\n",
       "      <td>Accessories</td>\n",
       "      <td>1</td>\n",
       "      <td>1004.30</td>\n",
       "      <td>27/01/2022</td>\n",
       "      <td>East</td>\n",
       "    </tr>\n",
       "    <tr>\n",
       "      <th>3</th>\n",
       "      <td>TXN00004</td>\n",
       "      <td>CUST0072</td>\n",
       "      <td>Mouse</td>\n",
       "      <td>NaN</td>\n",
       "      <td>1</td>\n",
       "      <td>91.89</td>\n",
       "      <td>22/10/2022</td>\n",
       "      <td>South</td>\n",
       "    </tr>\n",
       "    <tr>\n",
       "      <th>4</th>\n",
       "      <td>TXN00005</td>\n",
       "      <td>CUST0061</td>\n",
       "      <td>Laptop</td>\n",
       "      <td>Accessories</td>\n",
       "      <td>3</td>\n",
       "      <td>1719.75</td>\n",
       "      <td>17/05/2021</td>\n",
       "      <td>NaN</td>\n",
       "    </tr>\n",
       "  </tbody>\n",
       "</table>\n",
       "</div>"
      ],
      "text/plain": [
       "  TransactionID CustomerID     Product     Category  Quantity    Price  \\\n",
       "0      TXN00001   CUST0052      Camera  Electronics         1  1489.74   \n",
       "1      TXN00002   CUST0093     Monitor          NaN         2  1364.68   \n",
       "2      TXN00003   CUST0015  Smartphone  Accessories         1  1004.30   \n",
       "3      TXN00004   CUST0072       Mouse          NaN         1    91.89   \n",
       "4      TXN00005   CUST0061      Laptop  Accessories         3  1719.75   \n",
       "\n",
       "  TransactionDate Region  \n",
       "0      2021-12-04  North  \n",
       "1      12/04/2022   East  \n",
       "2      27/01/2022   East  \n",
       "3      22/10/2022  South  \n",
       "4      17/05/2021    NaN  "
      ]
     },
     "execution_count": 5,
     "metadata": {},
     "output_type": "execute_result"
    }
   ],
   "source": [
    "df.head()\n",
    "#shows the first 5 rows"
   ]
  },
  {
   "cell_type": "code",
   "execution_count": 6,
   "id": "a3cbe1b2",
   "metadata": {},
   "outputs": [
    {
     "name": "stdout",
     "output_type": "stream",
     "text": [
      "<class 'pandas.core.frame.DataFrame'>\n",
      "RangeIndex: 205 entries, 0 to 204\n",
      "Data columns (total 8 columns):\n",
      " #   Column           Non-Null Count  Dtype  \n",
      "---  ------           --------------  -----  \n",
      " 0   TransactionID    205 non-null    object \n",
      " 1   CustomerID       205 non-null    object \n",
      " 2   Product          205 non-null    object \n",
      " 3   Category         156 non-null    object \n",
      " 4   Quantity         205 non-null    int64  \n",
      " 5   Price            205 non-null    float64\n",
      " 6   TransactionDate  205 non-null    object \n",
      " 7   Region           167 non-null    object \n",
      "dtypes: float64(1), int64(1), object(6)\n",
      "memory usage: 12.9+ KB\n"
     ]
    }
   ],
   "source": [
    "#prints information about the Dataframe\n",
    "df.info()"
   ]
  },
  {
   "cell_type": "code",
   "execution_count": 7,
   "id": "19a13776",
   "metadata": {},
   "outputs": [
    {
     "data": {
      "text/html": [
       "<div>\n",
       "<style scoped>\n",
       "    .dataframe tbody tr th:only-of-type {\n",
       "        vertical-align: middle;\n",
       "    }\n",
       "\n",
       "    .dataframe tbody tr th {\n",
       "        vertical-align: top;\n",
       "    }\n",
       "\n",
       "    .dataframe thead th {\n",
       "        text-align: right;\n",
       "    }\n",
       "</style>\n",
       "<table border=\"1\" class=\"dataframe\">\n",
       "  <thead>\n",
       "    <tr style=\"text-align: right;\">\n",
       "      <th></th>\n",
       "      <th>Quantity</th>\n",
       "      <th>Price</th>\n",
       "    </tr>\n",
       "  </thead>\n",
       "  <tbody>\n",
       "    <tr>\n",
       "      <th>count</th>\n",
       "      <td>205.000000</td>\n",
       "      <td>205.000000</td>\n",
       "    </tr>\n",
       "    <tr>\n",
       "      <th>mean</th>\n",
       "      <td>2.653659</td>\n",
       "      <td>1007.179951</td>\n",
       "    </tr>\n",
       "    <tr>\n",
       "      <th>std</th>\n",
       "      <td>1.159804</td>\n",
       "      <td>579.154213</td>\n",
       "    </tr>\n",
       "    <tr>\n",
       "      <th>min</th>\n",
       "      <td>1.000000</td>\n",
       "      <td>24.210000</td>\n",
       "    </tr>\n",
       "    <tr>\n",
       "      <th>25%</th>\n",
       "      <td>2.000000</td>\n",
       "      <td>504.320000</td>\n",
       "    </tr>\n",
       "    <tr>\n",
       "      <th>50%</th>\n",
       "      <td>3.000000</td>\n",
       "      <td>932.760000</td>\n",
       "    </tr>\n",
       "    <tr>\n",
       "      <th>75%</th>\n",
       "      <td>4.000000</td>\n",
       "      <td>1554.210000</td>\n",
       "    </tr>\n",
       "    <tr>\n",
       "      <th>max</th>\n",
       "      <td>4.000000</td>\n",
       "      <td>1992.780000</td>\n",
       "    </tr>\n",
       "  </tbody>\n",
       "</table>\n",
       "</div>"
      ],
      "text/plain": [
       "         Quantity        Price\n",
       "count  205.000000   205.000000\n",
       "mean     2.653659  1007.179951\n",
       "std      1.159804   579.154213\n",
       "min      1.000000    24.210000\n",
       "25%      2.000000   504.320000\n",
       "50%      3.000000   932.760000\n",
       "75%      4.000000  1554.210000\n",
       "max      4.000000  1992.780000"
      ]
     },
     "execution_count": 7,
     "metadata": {},
     "output_type": "execute_result"
    }
   ],
   "source": [
    "#description of the data in the DataFrame\n",
    "df.describe()"
   ]
  },
  {
   "cell_type": "markdown",
   "id": "59a9920e",
   "metadata": {},
   "source": [
    "# Handle missing values"
   ]
  },
  {
   "cell_type": "code",
   "execution_count": 8,
   "id": "a0cc16e3",
   "metadata": {},
   "outputs": [
    {
     "data": {
      "text/plain": [
       "TransactionID       0\n",
       "CustomerID          0\n",
       "Product             0\n",
       "Category           49\n",
       "Quantity            0\n",
       "Price               0\n",
       "TransactionDate     0\n",
       "Region             38\n",
       "dtype: int64"
      ]
     },
     "execution_count": 8,
     "metadata": {},
     "output_type": "execute_result"
    }
   ],
   "source": [
    "#Check which columns have missing values(to see where the gaps are). This shows for each column, how many missing(NaN) values I have.\n",
    "df.isnull().sum()"
   ]
  },
  {
   "cell_type": "code",
   "execution_count": 9,
   "id": "b09a7bcd",
   "metadata": {},
   "outputs": [],
   "source": [
    "#Fill missing values\n",
    "df['Region'] = df['Region'].fillna('Unknown')\n",
    "df['Category'] = df['Category'].fillna('Unknown')"
   ]
  },
  {
   "cell_type": "code",
   "execution_count": 10,
   "id": "06a0cf74",
   "metadata": {},
   "outputs": [
    {
     "data": {
      "text/plain": [
       "TransactionID      0\n",
       "CustomerID         0\n",
       "Product            0\n",
       "Category           0\n",
       "Quantity           0\n",
       "Price              0\n",
       "TransactionDate    0\n",
       "Region             0\n",
       "dtype: int64"
      ]
     },
     "execution_count": 10,
     "metadata": {},
     "output_type": "execute_result"
    }
   ],
   "source": [
    "#Double-check missing values\n",
    "df.isnull().sum()"
   ]
  },
  {
   "cell_type": "markdown",
   "id": "0986d358",
   "metadata": {},
   "source": [
    "# Fix inconsistent formatting"
   ]
  },
  {
   "cell_type": "code",
   "execution_count": 11,
   "id": "33325010",
   "metadata": {},
   "outputs": [
    {
     "name": "stdout",
     "output_type": "stream",
     "text": [
      "Index(['TransactionID', 'CustomerID', 'Product', 'Category', 'Quantity',\n",
      "       'Price', 'TransactionDate', 'Region'],\n",
      "      dtype='object')\n"
     ]
    }
   ],
   "source": [
    "#Strip extra spaces in text columns\n",
    "\n",
    "print(df.columns)\n"
   ]
  },
  {
   "cell_type": "code",
   "execution_count": 12,
   "id": "72472a08",
   "metadata": {},
   "outputs": [],
   "source": [
    "#Strip spaces\n",
    "df['TransactionID'] = df['TransactionID'].str.strip()\n",
    "df['CustomerID'] = df['CustomerID'].str.strip()\n",
    "df['Product'] = df['Product'].str.strip()\n",
    "df['Category'] = df['Category'].str.strip()\n",
    "df['Region'] = df['Region'].str.strip()"
   ]
  },
  {
   "cell_type": "code",
   "execution_count": 13,
   "id": "1dbbda4c",
   "metadata": {},
   "outputs": [],
   "source": [
    "#or for all string columns at once:\n",
    "df = df.apply(lambda x: x.str.strip() if x.dtype == \"object\" else x)"
   ]
  },
  {
   "cell_type": "code",
   "execution_count": 14,
   "id": "0088c40b",
   "metadata": {},
   "outputs": [],
   "source": [
    "#Standardize letter cases\n",
    "#first letter uppercase\n",
    "df['Region'] = df['Region'].str.title()\n",
    "\n",
    "# took \"region\" column from dataframe\n",
    "# turned it into string to make sure it's nothing only string\n",
    "# applied title method to each row of that column to convert them to title form (first letter capitalized rest small)\n",
    "\n",
    "#or to apply for all the titles\n",
    "df = df.apply(lambda col: col.str.strip().str.title() if col.dtype == \"object\" else col)\n",
    "\n",
    "# i'm applying a function to the dataframe\n",
    "# the input is the columns of the dataframe\n",
    "# this is what I'm doing:\n",
    "# turn each column to string\n",
    "# delete extra spaces\n",
    "# again make sure it's string\n",
    "# and then turn it to title case (first letter capital rest small)\n",
    "\n",
    "# do this only if the column is object\n",
    "# it means if it's string, doesn't need to do these\n",
    "\n",
    "# otherwise I just return the input value\n",
    "\n"
   ]
  },
  {
   "cell_type": "markdown",
   "id": "7d7a5292",
   "metadata": {},
   "source": []
  },
  {
   "cell_type": "code",
   "execution_count": 15,
   "id": "c4131198",
   "metadata": {},
   "outputs": [],
   "source": [
    "\n",
    "#Fix mixed data types\n",
    "\n",
    "#Convert to numeric:\n",
    "df['Quantity'] = pd.to_numeric(df['Quantity'], errors='coerce')\n",
    "\n",
    "#Convert to datetime:\n",
    "df['TransactionDate'] = pd.to_datetime(df['TransactionDate'], errors='coerce')"
   ]
  },
  {
   "cell_type": "markdown",
   "id": "d729e5cd",
   "metadata": {},
   "source": [
    "# Find duplicates"
   ]
  },
  {
   "cell_type": "code",
   "execution_count": 16,
   "id": "2285da4f",
   "metadata": {},
   "outputs": [
    {
     "name": "stdout",
     "output_type": "stream",
     "text": [
      "Before cleaning: 205\n"
     ]
    }
   ],
   "source": [
    "#Prep, snapshot + backup\n",
    "orig_rows = len(df)\n",
    "print(\"Before cleaning:\", orig_rows)"
   ]
  },
  {
   "cell_type": "code",
   "execution_count": 17,
   "id": "b70c6dc5",
   "metadata": {},
   "outputs": [],
   "source": [
    "df_raw = df.copy()  #safety copy"
   ]
  },
  {
   "cell_type": "code",
   "execution_count": 18,
   "id": "426cf8d9",
   "metadata": {},
   "outputs": [
    {
     "data": {
      "text/plain": [
       "TransactionID      0.975610\n",
       "Price              0.975610\n",
       "CustomerID         0.424390\n",
       "TransactionDate    0.063415\n",
       "Product            0.039024\n",
       "Region             0.024390\n",
       "Category           0.019512\n",
       "Quantity           0.019512\n",
       "dtype: float64"
      ]
     },
     "execution_count": 18,
     "metadata": {},
     "output_type": "execute_result"
    }
   ],
   "source": [
    "#search for business-key, quick check which columns look high-cardinality(good key candidates). Values close to 1.0 (100%) are often unique identifiers.\n",
    "(df.nunique().sort_values(ascending=False) / len(df)).head(10)"
   ]
  },
  {
   "cell_type": "code",
   "execution_count": 19,
   "id": "1160b6ec",
   "metadata": {},
   "outputs": [
    {
     "data": {
      "text/plain": [
       "False"
      ]
     },
     "execution_count": 19,
     "metadata": {},
     "output_type": "execute_result"
    }
   ],
   "source": [
    "#chech the TransactionID uniqueness\n",
    "df['TransactionID'].is_unique"
   ]
  },
  {
   "cell_type": "code",
   "execution_count": 20,
   "id": "59edd08d",
   "metadata": {},
   "outputs": [
    {
     "data": {
      "text/plain": [
       "np.int64(5)"
      ]
     },
     "execution_count": 20,
     "metadata": {},
     "output_type": "execute_result"
    }
   ],
   "source": [
    "#Count how many duplicates exist\n",
    "df['TransactionID'].duplicated().sum()"
   ]
  },
  {
   "cell_type": "markdown",
   "id": "08b85f98",
   "metadata": {},
   "source": [
    "# Detect duplicates"
   ]
  },
  {
   "cell_type": "markdown",
   "id": "a552ea66",
   "metadata": {},
   "source": [
    "\n",
    "\n",
    "1) Exact row duplicates"
   ]
  },
  {
   "cell_type": "code",
   "execution_count": 21,
   "id": "00e492c2",
   "metadata": {},
   "outputs": [
    {
     "data": {
      "text/plain": [
       "np.int64(10)"
      ]
     },
     "execution_count": 21,
     "metadata": {},
     "output_type": "execute_result"
    }
   ],
   "source": [
    "#Exact row duplicates (all columns identical)\n",
    "exact_dupe_count = df.duplicated(keep=False).sum()\n",
    "exact_dupe_count"
   ]
  },
  {
   "cell_type": "code",
   "execution_count": 22,
   "id": "5e982dd6",
   "metadata": {},
   "outputs": [
    {
     "data": {
      "text/html": [
       "<div>\n",
       "<style scoped>\n",
       "    .dataframe tbody tr th:only-of-type {\n",
       "        vertical-align: middle;\n",
       "    }\n",
       "\n",
       "    .dataframe tbody tr th {\n",
       "        vertical-align: top;\n",
       "    }\n",
       "\n",
       "    .dataframe thead th {\n",
       "        text-align: right;\n",
       "    }\n",
       "</style>\n",
       "<table border=\"1\" class=\"dataframe\">\n",
       "  <thead>\n",
       "    <tr style=\"text-align: right;\">\n",
       "      <th></th>\n",
       "      <th>TransactionID</th>\n",
       "      <th>CustomerID</th>\n",
       "      <th>Product</th>\n",
       "      <th>Category</th>\n",
       "      <th>Quantity</th>\n",
       "      <th>Price</th>\n",
       "      <th>TransactionDate</th>\n",
       "      <th>Region</th>\n",
       "    </tr>\n",
       "  </thead>\n",
       "  <tbody>\n",
       "    <tr>\n",
       "      <th>15</th>\n",
       "      <td>Txn00016</td>\n",
       "      <td>Cust0053</td>\n",
       "      <td>Mouse</td>\n",
       "      <td>Unknown</td>\n",
       "      <td>4</td>\n",
       "      <td>412.34</td>\n",
       "      <td>NaT</td>\n",
       "      <td>East</td>\n",
       "    </tr>\n",
       "    <tr>\n",
       "      <th>201</th>\n",
       "      <td>Txn00016</td>\n",
       "      <td>Cust0053</td>\n",
       "      <td>Mouse</td>\n",
       "      <td>Unknown</td>\n",
       "      <td>4</td>\n",
       "      <td>412.34</td>\n",
       "      <td>NaT</td>\n",
       "      <td>East</td>\n",
       "    </tr>\n",
       "    <tr>\n",
       "      <th>30</th>\n",
       "      <td>Txn00031</td>\n",
       "      <td>Cust0091</td>\n",
       "      <td>Smartphone</td>\n",
       "      <td>Unknown</td>\n",
       "      <td>1</td>\n",
       "      <td>752.92</td>\n",
       "      <td>NaT</td>\n",
       "      <td>South</td>\n",
       "    </tr>\n",
       "    <tr>\n",
       "      <th>202</th>\n",
       "      <td>Txn00031</td>\n",
       "      <td>Cust0091</td>\n",
       "      <td>Smartphone</td>\n",
       "      <td>Unknown</td>\n",
       "      <td>1</td>\n",
       "      <td>752.92</td>\n",
       "      <td>NaT</td>\n",
       "      <td>South</td>\n",
       "    </tr>\n",
       "    <tr>\n",
       "      <th>95</th>\n",
       "      <td>Txn00096</td>\n",
       "      <td>Cust0085</td>\n",
       "      <td>Mouse</td>\n",
       "      <td>Gadgets</td>\n",
       "      <td>3</td>\n",
       "      <td>142.13</td>\n",
       "      <td>2021-06-12</td>\n",
       "      <td>North</td>\n",
       "    </tr>\n",
       "    <tr>\n",
       "      <th>200</th>\n",
       "      <td>Txn00096</td>\n",
       "      <td>Cust0085</td>\n",
       "      <td>Mouse</td>\n",
       "      <td>Gadgets</td>\n",
       "      <td>3</td>\n",
       "      <td>142.13</td>\n",
       "      <td>2021-06-12</td>\n",
       "      <td>North</td>\n",
       "    </tr>\n",
       "    <tr>\n",
       "      <th>128</th>\n",
       "      <td>Txn00129</td>\n",
       "      <td>Cust0012</td>\n",
       "      <td>Smartphone</td>\n",
       "      <td>Unknown</td>\n",
       "      <td>1</td>\n",
       "      <td>1055.89</td>\n",
       "      <td>NaT</td>\n",
       "      <td>North</td>\n",
       "    </tr>\n",
       "    <tr>\n",
       "      <th>204</th>\n",
       "      <td>Txn00129</td>\n",
       "      <td>Cust0012</td>\n",
       "      <td>Smartphone</td>\n",
       "      <td>Unknown</td>\n",
       "      <td>1</td>\n",
       "      <td>1055.89</td>\n",
       "      <td>NaT</td>\n",
       "      <td>North</td>\n",
       "    </tr>\n",
       "    <tr>\n",
       "      <th>158</th>\n",
       "      <td>Txn00159</td>\n",
       "      <td>Cust0063</td>\n",
       "      <td>Keyboard</td>\n",
       "      <td>Electronics</td>\n",
       "      <td>4</td>\n",
       "      <td>674.10</td>\n",
       "      <td>NaT</td>\n",
       "      <td>West</td>\n",
       "    </tr>\n",
       "    <tr>\n",
       "      <th>203</th>\n",
       "      <td>Txn00159</td>\n",
       "      <td>Cust0063</td>\n",
       "      <td>Keyboard</td>\n",
       "      <td>Electronics</td>\n",
       "      <td>4</td>\n",
       "      <td>674.10</td>\n",
       "      <td>NaT</td>\n",
       "      <td>West</td>\n",
       "    </tr>\n",
       "  </tbody>\n",
       "</table>\n",
       "</div>"
      ],
      "text/plain": [
       "    TransactionID CustomerID     Product     Category  Quantity    Price  \\\n",
       "15       Txn00016   Cust0053       Mouse      Unknown         4   412.34   \n",
       "201      Txn00016   Cust0053       Mouse      Unknown         4   412.34   \n",
       "30       Txn00031   Cust0091  Smartphone      Unknown         1   752.92   \n",
       "202      Txn00031   Cust0091  Smartphone      Unknown         1   752.92   \n",
       "95       Txn00096   Cust0085       Mouse      Gadgets         3   142.13   \n",
       "200      Txn00096   Cust0085       Mouse      Gadgets         3   142.13   \n",
       "128      Txn00129   Cust0012  Smartphone      Unknown         1  1055.89   \n",
       "204      Txn00129   Cust0012  Smartphone      Unknown         1  1055.89   \n",
       "158      Txn00159   Cust0063    Keyboard  Electronics         4   674.10   \n",
       "203      Txn00159   Cust0063    Keyboard  Electronics         4   674.10   \n",
       "\n",
       "    TransactionDate Region  \n",
       "15              NaT   East  \n",
       "201             NaT   East  \n",
       "30              NaT  South  \n",
       "202             NaT  South  \n",
       "95       2021-06-12  North  \n",
       "200      2021-06-12  North  \n",
       "128             NaT  North  \n",
       "204             NaT  North  \n",
       "158             NaT   West  \n",
       "203             NaT   West  "
      ]
     },
     "execution_count": 22,
     "metadata": {},
     "output_type": "execute_result"
    }
   ],
   "source": [
    "#preview Exact row duplicates for top 10 columns\n",
    "df[df.duplicated(keep=False)].sort_values(df.columns.tolist()).head(10)"
   ]
  },
  {
   "cell_type": "markdown",
   "id": "21b73211",
   "metadata": {},
   "source": []
  },
  {
   "cell_type": "markdown",
   "id": "85ccb867",
   "metadata": {},
   "source": [
    "2) Key-based duplicates (same ID appearing multiple times)"
   ]
  },
  {
   "cell_type": "code",
   "execution_count": 23,
   "id": "0012b558",
   "metadata": {},
   "outputs": [
    {
     "data": {
      "text/plain": [
       "np.int64(10)"
      ]
     },
     "execution_count": 23,
     "metadata": {},
     "output_type": "execute_result"
    }
   ],
   "source": [
    "key_cols = ['TransactionID'] \n",
    "key_dupe_count = df.duplicated(subset=key_cols, keep=False).sum()\n",
    "key_dupe_count"
   ]
  },
  {
   "cell_type": "code",
   "execution_count": 24,
   "id": "7abb0984",
   "metadata": {},
   "outputs": [
    {
     "data": {
      "text/html": [
       "<div>\n",
       "<style scoped>\n",
       "    .dataframe tbody tr th:only-of-type {\n",
       "        vertical-align: middle;\n",
       "    }\n",
       "\n",
       "    .dataframe tbody tr th {\n",
       "        vertical-align: top;\n",
       "    }\n",
       "\n",
       "    .dataframe thead th {\n",
       "        text-align: right;\n",
       "    }\n",
       "</style>\n",
       "<table border=\"1\" class=\"dataframe\">\n",
       "  <thead>\n",
       "    <tr style=\"text-align: right;\">\n",
       "      <th></th>\n",
       "      <th>TransactionID</th>\n",
       "      <th>count</th>\n",
       "    </tr>\n",
       "  </thead>\n",
       "  <tbody>\n",
       "    <tr>\n",
       "      <th>15</th>\n",
       "      <td>Txn00016</td>\n",
       "      <td>2</td>\n",
       "    </tr>\n",
       "    <tr>\n",
       "      <th>30</th>\n",
       "      <td>Txn00031</td>\n",
       "      <td>2</td>\n",
       "    </tr>\n",
       "    <tr>\n",
       "      <th>95</th>\n",
       "      <td>Txn00096</td>\n",
       "      <td>2</td>\n",
       "    </tr>\n",
       "    <tr>\n",
       "      <th>128</th>\n",
       "      <td>Txn00129</td>\n",
       "      <td>2</td>\n",
       "    </tr>\n",
       "    <tr>\n",
       "      <th>158</th>\n",
       "      <td>Txn00159</td>\n",
       "      <td>2</td>\n",
       "    </tr>\n",
       "  </tbody>\n",
       "</table>\n",
       "</div>"
      ],
      "text/plain": [
       "    TransactionID  count\n",
       "15       Txn00016      2\n",
       "30       Txn00031      2\n",
       "95       Txn00096      2\n",
       "128      Txn00129      2\n",
       "158      Txn00159      2"
      ]
     },
     "execution_count": 24,
     "metadata": {},
     "output_type": "execute_result"
    }
   ],
   "source": [
    "#See which keys repeat and how often:\n",
    "dupe_keys = (df.groupby(key_cols)\n",
    "               .size()\n",
    "               .reset_index(name='count')\n",
    "               .query('count > 1')\n",
    "               .sort_values('count', ascending=False))\n",
    "dupe_keys.head(10)"
   ]
  },
  {
   "cell_type": "code",
   "execution_count": 25,
   "id": "6b644561",
   "metadata": {},
   "outputs": [],
   "source": [
    "#removes all the duplicates, keeps the first\n",
    "df = df.drop_duplicates()"
   ]
  },
  {
   "cell_type": "code",
   "execution_count": 14,
   "id": "db9d4417",
   "metadata": {},
   "outputs": [
    {
     "data": {
      "text/plain": [
       "np.int64(5)"
      ]
     },
     "execution_count": 14,
     "metadata": {},
     "output_type": "execute_result"
    }
   ],
   "source": [
    "#to see if it worked:\n",
    "df.duplicated().sum()           "
   ]
  },
  {
   "cell_type": "markdown",
   "id": "3b3cfa75",
   "metadata": {},
   "source": [
    "# standardize inconsistent date formats"
   ]
  },
  {
   "cell_type": "code",
   "execution_count": 15,
   "id": "f7f43bcf",
   "metadata": {},
   "outputs": [
    {
     "data": {
      "text/plain": [
       "0    2021-12-04\n",
       "1    12/04/2022\n",
       "2    27/01/2022\n",
       "3    22/10/2022\n",
       "4    17/05/2021\n",
       "5    06/10/2021\n",
       "6    26/12/2022\n",
       "7    01/09/2021\n",
       "8    22/07/2021\n",
       "9    05/01/2022\n",
       "Name: TransactionDate, dtype: object"
      ]
     },
     "execution_count": 15,
     "metadata": {},
     "output_type": "execute_result"
    }
   ],
   "source": [
    "df[\"TransactionDate\"].head(10)"
   ]
  },
  {
   "cell_type": "code",
   "execution_count": 16,
   "id": "2cb81a44",
   "metadata": {},
   "outputs": [
    {
     "data": {
      "text/plain": [
       "0    2021-12-04\n",
       "1    12/04/2022\n",
       "2    27/01/2022\n",
       "3    22/10/2022\n",
       "4    17/05/2021\n",
       "5    06/10/2021\n",
       "6    26/12/2022\n",
       "7    01/09/2021\n",
       "8    22/07/2021\n",
       "9    05/01/2022\n",
       "Name: TransactionDate, dtype: object"
      ]
     },
     "execution_count": 16,
     "metadata": {},
     "output_type": "execute_result"
    }
   ],
   "source": [
    "#Let’s inspect a few of the raw values before pandas converted them\n",
    "df_raw = pd.read_csv(data_path, dtype=str)\n",
    "df_raw[\"TransactionDate\"].head(10)"
   ]
  },
  {
   "cell_type": "code",
   "execution_count": 18,
   "id": "3d8d3f5d",
   "metadata": {},
   "outputs": [
    {
     "data": {
      "text/plain": [
       "TransactionDate\n",
       "False    191\n",
       "True      14\n",
       "Name: count, dtype: int64"
      ]
     },
     "execution_count": 18,
     "metadata": {},
     "output_type": "execute_result"
    }
   ],
   "source": [
    "df_raw[\"TransactionDate\"].str.contains(\"-\").value_counts()\n"
   ]
  },
  {
   "cell_type": "code",
   "execution_count": 19,
   "id": "97fab76d",
   "metadata": {},
   "outputs": [],
   "source": [
    "df_raw[\"TransactionDate\"] = pd.to_datetime(\n",
    "    df_raw[\"TransactionDate\"], \n",
    "    dayfirst=True, \n",
    "    errors=\"coerce\"\n",
    ")\n"
   ]
  },
  {
   "cell_type": "code",
   "execution_count": 20,
   "id": "ad6d96b8",
   "metadata": {},
   "outputs": [
    {
     "data": {
      "text/plain": [
       "dtype('<M8[ns]')"
      ]
     },
     "execution_count": 20,
     "metadata": {},
     "output_type": "execute_result"
    }
   ],
   "source": [
    "df_raw[\"TransactionDate\"].dtype\n",
    "#pandas successfully converted your TransactionDate column \n",
    "#into true datetime objects"
   ]
  },
  {
   "cell_type": "code",
   "execution_count": 21,
   "id": "65a24eea",
   "metadata": {},
   "outputs": [],
   "source": [
    "#temporarily turn the column’s values into strings\n",
    "#wrap the column with .astype(str) before using .str.contains(\"/\")\n",
    "mask = df_raw[\"TransactionDate\"].astype(str).str.contains(\"/\")\n"
   ]
  },
  {
   "cell_type": "code",
   "execution_count": 22,
   "id": "31029806",
   "metadata": {},
   "outputs": [],
   "source": [
    "#Finds all rows with slashes (mask)\n",
    "#Converts only those using the exact format day/month/year.\n",
    "#Leaves dash-style dates untouched.\n",
    "#Keeps everything in one column, fully standardized.\n",
    "mask = df_raw[\"TransactionDate\"].astype(str).str.contains(\"/\")\n",
    "\n",
    "df_raw.loc[mask, \"TransactionDate\"] = pd.to_datetime(\n",
    "    df_raw.loc[mask, \"TransactionDate\"],\n",
    "    format=\"%d/%m/%Y\",\n",
    "    errors=\"coerce\"\n",
    ")\n"
   ]
  },
  {
   "cell_type": "code",
   "execution_count": 23,
   "id": "54cb6815",
   "metadata": {},
   "outputs": [
    {
     "data": {
      "text/plain": [
       "0   2021-04-12\n",
       "1          NaT\n",
       "2          NaT\n",
       "3          NaT\n",
       "4          NaT\n",
       "5          NaT\n",
       "6          NaT\n",
       "7          NaT\n",
       "8          NaT\n",
       "9          NaT\n",
       "Name: TransactionDate, dtype: datetime64[ns]"
      ]
     },
     "execution_count": 23,
     "metadata": {},
     "output_type": "execute_result"
    }
   ],
   "source": [
    "df_raw[\"TransactionDate\"].head(10)"
   ]
  },
  {
   "cell_type": "code",
   "execution_count": 24,
   "id": "8adcb174",
   "metadata": {},
   "outputs": [
    {
     "data": {
      "text/plain": [
       "Series([], Name: TransactionDate, dtype: datetime64[ns])"
      ]
     },
     "execution_count": 24,
     "metadata": {},
     "output_type": "execute_result"
    }
   ],
   "source": [
    "df_raw.loc[mask & df_raw[\"TransactionDate\"].isna(), \"TransactionDate\"]\n"
   ]
  },
  {
   "cell_type": "code",
   "execution_count": 25,
   "id": "a7be0bfa",
   "metadata": {},
   "outputs": [
    {
     "data": {
      "text/html": [
       "<div>\n",
       "<style scoped>\n",
       "    .dataframe tbody tr th:only-of-type {\n",
       "        vertical-align: middle;\n",
       "    }\n",
       "\n",
       "    .dataframe tbody tr th {\n",
       "        vertical-align: top;\n",
       "    }\n",
       "\n",
       "    .dataframe thead th {\n",
       "        text-align: right;\n",
       "    }\n",
       "</style>\n",
       "<table border=\"1\" class=\"dataframe\">\n",
       "  <thead>\n",
       "    <tr style=\"text-align: right;\">\n",
       "      <th></th>\n",
       "      <th>TransactionID</th>\n",
       "      <th>CustomerID</th>\n",
       "      <th>Product</th>\n",
       "      <th>Category</th>\n",
       "      <th>Quantity</th>\n",
       "      <th>Price</th>\n",
       "      <th>TransactionDate</th>\n",
       "      <th>Region</th>\n",
       "    </tr>\n",
       "  </thead>\n",
       "  <tbody>\n",
       "    <tr>\n",
       "      <th>1</th>\n",
       "      <td>TXN00002</td>\n",
       "      <td>CUST0093</td>\n",
       "      <td>Monitor</td>\n",
       "      <td>NaN</td>\n",
       "      <td>2</td>\n",
       "      <td>1364.68</td>\n",
       "      <td>NaT</td>\n",
       "      <td>East</td>\n",
       "    </tr>\n",
       "    <tr>\n",
       "      <th>2</th>\n",
       "      <td>TXN00003</td>\n",
       "      <td>CUST0015</td>\n",
       "      <td>Smartphone</td>\n",
       "      <td>Accessories</td>\n",
       "      <td>1</td>\n",
       "      <td>1004.3</td>\n",
       "      <td>NaT</td>\n",
       "      <td>East</td>\n",
       "    </tr>\n",
       "    <tr>\n",
       "      <th>3</th>\n",
       "      <td>TXN00004</td>\n",
       "      <td>CUST0072</td>\n",
       "      <td>Mouse</td>\n",
       "      <td>NaN</td>\n",
       "      <td>1</td>\n",
       "      <td>91.89</td>\n",
       "      <td>NaT</td>\n",
       "      <td>South</td>\n",
       "    </tr>\n",
       "    <tr>\n",
       "      <th>4</th>\n",
       "      <td>TXN00005</td>\n",
       "      <td>CUST0061</td>\n",
       "      <td>Laptop</td>\n",
       "      <td>Accessories</td>\n",
       "      <td>3</td>\n",
       "      <td>1719.75</td>\n",
       "      <td>NaT</td>\n",
       "      <td>NaN</td>\n",
       "    </tr>\n",
       "    <tr>\n",
       "      <th>5</th>\n",
       "      <td>TXN00006</td>\n",
       "      <td>CUST0021</td>\n",
       "      <td>Monitor</td>\n",
       "      <td>Accessories</td>\n",
       "      <td>2</td>\n",
       "      <td>1108.25</td>\n",
       "      <td>NaT</td>\n",
       "      <td>South</td>\n",
       "    </tr>\n",
       "    <tr>\n",
       "      <th>6</th>\n",
       "      <td>TXN00007</td>\n",
       "      <td>CUST0083</td>\n",
       "      <td>Mouse</td>\n",
       "      <td>Gadgets</td>\n",
       "      <td>4</td>\n",
       "      <td>645.56</td>\n",
       "      <td>NaT</td>\n",
       "      <td>East</td>\n",
       "    </tr>\n",
       "    <tr>\n",
       "      <th>7</th>\n",
       "      <td>TXN00008</td>\n",
       "      <td>CUST0087</td>\n",
       "      <td>Tablet</td>\n",
       "      <td>NaN</td>\n",
       "      <td>4</td>\n",
       "      <td>572.66</td>\n",
       "      <td>NaT</td>\n",
       "      <td>North</td>\n",
       "    </tr>\n",
       "    <tr>\n",
       "      <th>8</th>\n",
       "      <td>TXN00009</td>\n",
       "      <td>CUST0075</td>\n",
       "      <td>Headphones</td>\n",
       "      <td>Accessories</td>\n",
       "      <td>3</td>\n",
       "      <td>1687.33</td>\n",
       "      <td>NaT</td>\n",
       "      <td>NaN</td>\n",
       "    </tr>\n",
       "    <tr>\n",
       "      <th>9</th>\n",
       "      <td>TXN00010</td>\n",
       "      <td>CUST0075</td>\n",
       "      <td>Laptop</td>\n",
       "      <td>NaN</td>\n",
       "      <td>3</td>\n",
       "      <td>647.58</td>\n",
       "      <td>NaT</td>\n",
       "      <td>North</td>\n",
       "    </tr>\n",
       "    <tr>\n",
       "      <th>10</th>\n",
       "      <td>TXN00011</td>\n",
       "      <td>CUST0088</td>\n",
       "      <td>Monitor</td>\n",
       "      <td>NaN</td>\n",
       "      <td>2</td>\n",
       "      <td>1644.28</td>\n",
       "      <td>NaT</td>\n",
       "      <td>West</td>\n",
       "    </tr>\n",
       "  </tbody>\n",
       "</table>\n",
       "</div>"
      ],
      "text/plain": [
       "   TransactionID CustomerID     Product     Category Quantity    Price  \\\n",
       "1       TXN00002   CUST0093     Monitor          NaN        2  1364.68   \n",
       "2       TXN00003   CUST0015  Smartphone  Accessories        1   1004.3   \n",
       "3       TXN00004   CUST0072       Mouse          NaN        1    91.89   \n",
       "4       TXN00005   CUST0061      Laptop  Accessories        3  1719.75   \n",
       "5       TXN00006   CUST0021     Monitor  Accessories        2  1108.25   \n",
       "6       TXN00007   CUST0083       Mouse      Gadgets        4   645.56   \n",
       "7       TXN00008   CUST0087      Tablet          NaN        4   572.66   \n",
       "8       TXN00009   CUST0075  Headphones  Accessories        3  1687.33   \n",
       "9       TXN00010   CUST0075      Laptop          NaN        3   647.58   \n",
       "10      TXN00011   CUST0088     Monitor          NaN        2  1644.28   \n",
       "\n",
       "   TransactionDate Region  \n",
       "1              NaT   East  \n",
       "2              NaT   East  \n",
       "3              NaT  South  \n",
       "4              NaT    NaN  \n",
       "5              NaT  South  \n",
       "6              NaT   East  \n",
       "7              NaT  North  \n",
       "8              NaT    NaN  \n",
       "9              NaT  North  \n",
       "10             NaT   West  "
      ]
     },
     "execution_count": 25,
     "metadata": {},
     "output_type": "execute_result"
    }
   ],
   "source": [
    "df_raw[df_raw[\"TransactionDate\"].isna()].head(10)\n"
   ]
  },
  {
   "cell_type": "code",
   "execution_count": 26,
   "id": "a164c0ec",
   "metadata": {},
   "outputs": [
    {
     "data": {
      "text/plain": [
       "TransactionDate\n",
       "False    205\n",
       "Name: count, dtype: Int64"
      ]
     },
     "execution_count": 26,
     "metadata": {},
     "output_type": "execute_result"
    }
   ],
   "source": [
    "df_raw[\"TransactionDate\"].astype(\"string\").str.contains(\"/\", na=False).value_counts()\n"
   ]
  },
  {
   "cell_type": "code",
   "execution_count": 27,
   "id": "375ba2e0",
   "metadata": {},
   "outputs": [],
   "source": [
    "df_raw[\"TransactionDate\"] = pd.to_datetime(\n",
    "    df_raw[\"TransactionDate\"],\n",
    "    format=\"%d/%m/%Y\",\n",
    "    errors=\"coerce\"\n",
    ")\n"
   ]
  },
  {
   "cell_type": "code",
   "execution_count": 28,
   "id": "4b74f818",
   "metadata": {},
   "outputs": [
    {
     "data": {
      "text/plain": [
       "0   2021-04-12\n",
       "1          NaT\n",
       "2          NaT\n",
       "3          NaT\n",
       "4          NaT\n",
       "5          NaT\n",
       "6          NaT\n",
       "7          NaT\n",
       "8          NaT\n",
       "9          NaT\n",
       "Name: TransactionDate, dtype: datetime64[ns]"
      ]
     },
     "execution_count": 28,
     "metadata": {},
     "output_type": "execute_result"
    }
   ],
   "source": [
    "df_raw[\"TransactionDate\"].head(10)"
   ]
  },
  {
   "cell_type": "code",
   "execution_count": 29,
   "id": "55416044",
   "metadata": {},
   "outputs": [
    {
     "name": "stdout",
     "output_type": "stream",
     "text": [
      "<class 'pandas.core.frame.DataFrame'>\n",
      "RangeIndex: 205 entries, 0 to 204\n",
      "Data columns (total 8 columns):\n",
      " #   Column           Non-Null Count  Dtype \n",
      "---  ------           --------------  ----- \n",
      " 0   TransactionID    205 non-null    object\n",
      " 1   CustomerID       205 non-null    object\n",
      " 2   Product          205 non-null    object\n",
      " 3   Category         156 non-null    object\n",
      " 4   Quantity         205 non-null    object\n",
      " 5   Price            205 non-null    object\n",
      " 6   TransactionDate  205 non-null    object\n",
      " 7   Region           167 non-null    object\n",
      "dtypes: object(8)\n",
      "memory usage: 12.9+ KB\n"
     ]
    }
   ],
   "source": [
    "df_raw = pd.read_csv(\"retail_sales_data.csv\", dtype=str)\n",
    "df_raw.info()\n"
   ]
  },
  {
   "cell_type": "code",
   "execution_count": 209,
   "id": "058f13b2",
   "metadata": {},
   "outputs": [
    {
     "name": "stdout",
     "output_type": "stream",
     "text": [
      "Index(['TransactionID', 'CustomerID', 'Product', 'Category', 'Quantity',\n",
      "       'Price', 'Region', 'Sales', 'TransactionDate'],\n",
      "      dtype='object')\n",
      "<class 'pandas.core.frame.DataFrame'>\n",
      "Index: 200 entries, 0 to 199\n",
      "Data columns (total 9 columns):\n",
      " #   Column           Non-Null Count  Dtype         \n",
      "---  ------           --------------  -----         \n",
      " 0   TransactionID    200 non-null    object        \n",
      " 1   CustomerID       200 non-null    object        \n",
      " 2   Product          200 non-null    object        \n",
      " 3   Category         200 non-null    object        \n",
      " 4   Quantity         200 non-null    int64         \n",
      " 5   Price            200 non-null    float64       \n",
      " 6   Region           200 non-null    object        \n",
      " 7   Sales            200 non-null    float64       \n",
      " 8   TransactionDate  4 non-null      datetime64[ns]\n",
      "dtypes: datetime64[ns](1), float64(2), int64(1), object(5)\n",
      "memory usage: 15.6+ KB\n"
     ]
    }
   ],
   "source": [
    "import pandas as pd\n",
    "\n",
    "# Recreate clean date from raw column\n",
    "df['TransactionDate'] = pd.to_datetime(\n",
    "    df['TransactionDate_raw'], \n",
    "    errors='coerce', \n",
    "    dayfirst=True   # use True if your data is in DD/MM/YYYY format\n",
    ")\n",
    "\n",
    "# Drop the raw column (optional)\n",
    "df = df.drop(columns=['TransactionDate_raw'])\n",
    "\n",
    "print(df.columns)\n",
    "df.info()\n"
   ]
  },
  {
   "cell_type": "code",
   "execution_count": 30,
   "id": "17683779",
   "metadata": {},
   "outputs": [],
   "source": [
    "# Drop the messy one and rename the clean one\n",
    "df_raw = df_raw.drop(columns=['TransactionDate'])\n",
    "df_raw = df_raw.rename(columns={'TransactionDate_clean': 'TransactionDate'})\n"
   ]
  },
  {
   "cell_type": "code",
   "execution_count": 31,
   "id": "28ae20c3",
   "metadata": {},
   "outputs": [
    {
     "data": {
      "text/plain": [
       "['TransactionID',\n",
       " 'CustomerID',\n",
       " 'Product',\n",
       " 'Category',\n",
       " 'Quantity',\n",
       " 'Price',\n",
       " 'TransactionDate',\n",
       " 'Region']"
      ]
     },
     "execution_count": 31,
     "metadata": {},
     "output_type": "execute_result"
    }
   ],
   "source": [
    "df.columns.tolist()"
   ]
  },
  {
   "cell_type": "markdown",
   "id": "58441de3",
   "metadata": {},
   "source": [
    "# Visualization"
   ]
  },
  {
   "cell_type": "code",
   "execution_count": 32,
   "id": "608fc1c5",
   "metadata": {},
   "outputs": [],
   "source": [
    "import matplotlib.pyplot as plt\n",
    "import numpy as np"
   ]
  },
  {
   "cell_type": "code",
   "execution_count": 33,
   "id": "ab843fe6",
   "metadata": {},
   "outputs": [],
   "source": [
    "#Optionally, if you want prettier styles:\n",
    "plt.style.use(\"seaborn-v0_8-whitegrid\")\n"
   ]
  },
  {
   "cell_type": "markdown",
   "id": "625bebf8",
   "metadata": {},
   "source": [
    "# 1-Sales trend over time"
   ]
  },
  {
   "cell_type": "markdown",
   "id": "573aaa89",
   "metadata": {},
   "source": [
    "To see how sales change month by month, we’ll:\n",
    "\n",
    "1-Group by month using TransactionDate\n",
    "\n",
    "2-Sum up the Sales per month\n",
    "\n",
    "3-Plot a line chart using matplotlib"
   ]
  },
  {
   "cell_type": "code",
   "execution_count": 36,
   "id": "3370b9e8",
   "metadata": {},
   "outputs": [
    {
     "ename": "KeyError",
     "evalue": "'Month'",
     "output_type": "error",
     "traceback": [
      "\u001b[31m---------------------------------------------------------------------------\u001b[39m",
      "\u001b[31mKeyError\u001b[39m                                  Traceback (most recent call last)",
      "\u001b[36mCell\u001b[39m\u001b[36m \u001b[39m\u001b[32mIn[36]\u001b[39m\u001b[32m, line 1\u001b[39m\n\u001b[32m----> \u001b[39m\u001b[32m1\u001b[39m monthly_sales = \u001b[43mdf\u001b[49m\u001b[43m.\u001b[49m\u001b[43mgroupby\u001b[49m\u001b[43m(\u001b[49m\u001b[33;43m\"\u001b[39;49m\u001b[33;43mMonth\u001b[39;49m\u001b[33;43m\"\u001b[39;49m\u001b[43m)\u001b[49m[\u001b[33m\"\u001b[39m\u001b[33mSales\u001b[39m\u001b[33m\"\u001b[39m].sum()\n\u001b[32m      2\u001b[39m monthly_sales\n",
      "\u001b[36mFile \u001b[39m\u001b[32m~/.pyenv/versions/3.11.10/lib/python3.11/site-packages/pandas/core/frame.py:9190\u001b[39m, in \u001b[36mDataFrame.groupby\u001b[39m\u001b[34m(self, by, axis, level, as_index, sort, group_keys, observed, dropna)\u001b[39m\n\u001b[32m   9187\u001b[39m \u001b[38;5;28;01mif\u001b[39;00m level \u001b[38;5;129;01mis\u001b[39;00m \u001b[38;5;28;01mNone\u001b[39;00m \u001b[38;5;129;01mand\u001b[39;00m by \u001b[38;5;129;01mis\u001b[39;00m \u001b[38;5;28;01mNone\u001b[39;00m:\n\u001b[32m   9188\u001b[39m     \u001b[38;5;28;01mraise\u001b[39;00m \u001b[38;5;167;01mTypeError\u001b[39;00m(\u001b[33m\"\u001b[39m\u001b[33mYou have to supply one of \u001b[39m\u001b[33m'\u001b[39m\u001b[33mby\u001b[39m\u001b[33m'\u001b[39m\u001b[33m and \u001b[39m\u001b[33m'\u001b[39m\u001b[33mlevel\u001b[39m\u001b[33m'\u001b[39m\u001b[33m\"\u001b[39m)\n\u001b[32m-> \u001b[39m\u001b[32m9190\u001b[39m \u001b[38;5;28;01mreturn\u001b[39;00m \u001b[43mDataFrameGroupBy\u001b[49m\u001b[43m(\u001b[49m\n\u001b[32m   9191\u001b[39m \u001b[43m    \u001b[49m\u001b[43mobj\u001b[49m\u001b[43m=\u001b[49m\u001b[38;5;28;43mself\u001b[39;49m\u001b[43m,\u001b[49m\n\u001b[32m   9192\u001b[39m \u001b[43m    \u001b[49m\u001b[43mkeys\u001b[49m\u001b[43m=\u001b[49m\u001b[43mby\u001b[49m\u001b[43m,\u001b[49m\n\u001b[32m   9193\u001b[39m \u001b[43m    \u001b[49m\u001b[43maxis\u001b[49m\u001b[43m=\u001b[49m\u001b[43maxis\u001b[49m\u001b[43m,\u001b[49m\n\u001b[32m   9194\u001b[39m \u001b[43m    \u001b[49m\u001b[43mlevel\u001b[49m\u001b[43m=\u001b[49m\u001b[43mlevel\u001b[49m\u001b[43m,\u001b[49m\n\u001b[32m   9195\u001b[39m \u001b[43m    \u001b[49m\u001b[43mas_index\u001b[49m\u001b[43m=\u001b[49m\u001b[43mas_index\u001b[49m\u001b[43m,\u001b[49m\n\u001b[32m   9196\u001b[39m \u001b[43m    \u001b[49m\u001b[43msort\u001b[49m\u001b[43m=\u001b[49m\u001b[43msort\u001b[49m\u001b[43m,\u001b[49m\n\u001b[32m   9197\u001b[39m \u001b[43m    \u001b[49m\u001b[43mgroup_keys\u001b[49m\u001b[43m=\u001b[49m\u001b[43mgroup_keys\u001b[49m\u001b[43m,\u001b[49m\n\u001b[32m   9198\u001b[39m \u001b[43m    \u001b[49m\u001b[43mobserved\u001b[49m\u001b[43m=\u001b[49m\u001b[43mobserved\u001b[49m\u001b[43m,\u001b[49m\n\u001b[32m   9199\u001b[39m \u001b[43m    \u001b[49m\u001b[43mdropna\u001b[49m\u001b[43m=\u001b[49m\u001b[43mdropna\u001b[49m\u001b[43m,\u001b[49m\n\u001b[32m   9200\u001b[39m \u001b[43m\u001b[49m\u001b[43m)\u001b[49m\n",
      "\u001b[36mFile \u001b[39m\u001b[32m~/.pyenv/versions/3.11.10/lib/python3.11/site-packages/pandas/core/groupby/groupby.py:1330\u001b[39m, in \u001b[36mGroupBy.__init__\u001b[39m\u001b[34m(self, obj, keys, axis, level, grouper, exclusions, selection, as_index, sort, group_keys, observed, dropna)\u001b[39m\n\u001b[32m   1327\u001b[39m \u001b[38;5;28mself\u001b[39m.dropna = dropna\n\u001b[32m   1329\u001b[39m \u001b[38;5;28;01mif\u001b[39;00m grouper \u001b[38;5;129;01mis\u001b[39;00m \u001b[38;5;28;01mNone\u001b[39;00m:\n\u001b[32m-> \u001b[39m\u001b[32m1330\u001b[39m     grouper, exclusions, obj = \u001b[43mget_grouper\u001b[49m\u001b[43m(\u001b[49m\n\u001b[32m   1331\u001b[39m \u001b[43m        \u001b[49m\u001b[43mobj\u001b[49m\u001b[43m,\u001b[49m\n\u001b[32m   1332\u001b[39m \u001b[43m        \u001b[49m\u001b[43mkeys\u001b[49m\u001b[43m,\u001b[49m\n\u001b[32m   1333\u001b[39m \u001b[43m        \u001b[49m\u001b[43maxis\u001b[49m\u001b[43m=\u001b[49m\u001b[43maxis\u001b[49m\u001b[43m,\u001b[49m\n\u001b[32m   1334\u001b[39m \u001b[43m        \u001b[49m\u001b[43mlevel\u001b[49m\u001b[43m=\u001b[49m\u001b[43mlevel\u001b[49m\u001b[43m,\u001b[49m\n\u001b[32m   1335\u001b[39m \u001b[43m        \u001b[49m\u001b[43msort\u001b[49m\u001b[43m=\u001b[49m\u001b[43msort\u001b[49m\u001b[43m,\u001b[49m\n\u001b[32m   1336\u001b[39m \u001b[43m        \u001b[49m\u001b[43mobserved\u001b[49m\u001b[43m=\u001b[49m\u001b[38;5;28;43;01mFalse\u001b[39;49;00m\u001b[43m \u001b[49m\u001b[38;5;28;43;01mif\u001b[39;49;00m\u001b[43m \u001b[49m\u001b[43mobserved\u001b[49m\u001b[43m \u001b[49m\u001b[38;5;129;43;01mis\u001b[39;49;00m\u001b[43m \u001b[49m\u001b[43mlib\u001b[49m\u001b[43m.\u001b[49m\u001b[43mno_default\u001b[49m\u001b[43m \u001b[49m\u001b[38;5;28;43;01melse\u001b[39;49;00m\u001b[43m \u001b[49m\u001b[43mobserved\u001b[49m\u001b[43m,\u001b[49m\n\u001b[32m   1337\u001b[39m \u001b[43m        \u001b[49m\u001b[43mdropna\u001b[49m\u001b[43m=\u001b[49m\u001b[38;5;28;43mself\u001b[39;49m\u001b[43m.\u001b[49m\u001b[43mdropna\u001b[49m\u001b[43m,\u001b[49m\n\u001b[32m   1338\u001b[39m \u001b[43m    \u001b[49m\u001b[43m)\u001b[49m\n\u001b[32m   1340\u001b[39m \u001b[38;5;28;01mif\u001b[39;00m observed \u001b[38;5;129;01mis\u001b[39;00m lib.no_default:\n\u001b[32m   1341\u001b[39m     \u001b[38;5;28;01mif\u001b[39;00m \u001b[38;5;28many\u001b[39m(ping._passed_categorical \u001b[38;5;28;01mfor\u001b[39;00m ping \u001b[38;5;129;01min\u001b[39;00m grouper.groupings):\n",
      "\u001b[36mFile \u001b[39m\u001b[32m~/.pyenv/versions/3.11.10/lib/python3.11/site-packages/pandas/core/groupby/grouper.py:1043\u001b[39m, in \u001b[36mget_grouper\u001b[39m\u001b[34m(obj, key, axis, level, sort, observed, validate, dropna)\u001b[39m\n\u001b[32m   1041\u001b[39m         in_axis, level, gpr = \u001b[38;5;28;01mFalse\u001b[39;00m, gpr, \u001b[38;5;28;01mNone\u001b[39;00m\n\u001b[32m   1042\u001b[39m     \u001b[38;5;28;01melse\u001b[39;00m:\n\u001b[32m-> \u001b[39m\u001b[32m1043\u001b[39m         \u001b[38;5;28;01mraise\u001b[39;00m \u001b[38;5;167;01mKeyError\u001b[39;00m(gpr)\n\u001b[32m   1044\u001b[39m \u001b[38;5;28;01melif\u001b[39;00m \u001b[38;5;28misinstance\u001b[39m(gpr, Grouper) \u001b[38;5;129;01mand\u001b[39;00m gpr.key \u001b[38;5;129;01mis\u001b[39;00m \u001b[38;5;129;01mnot\u001b[39;00m \u001b[38;5;28;01mNone\u001b[39;00m:\n\u001b[32m   1045\u001b[39m     \u001b[38;5;66;03m# Add key to exclusions\u001b[39;00m\n\u001b[32m   1046\u001b[39m     exclusions.add(gpr.key)\n",
      "\u001b[31mKeyError\u001b[39m: 'Month'"
     ]
    }
   ],
   "source": [
    "monthly_sales = df.groupby(\"Month\")[\"Sales\"].sum()\n",
    "monthly_sales"
   ]
  },
  {
   "cell_type": "code",
   "execution_count": 35,
   "id": "6058cf22",
   "metadata": {},
   "outputs": [
    {
     "ename": "NameError",
     "evalue": "name 'monthly_sales' is not defined",
     "output_type": "error",
     "traceback": [
      "\u001b[31m---------------------------------------------------------------------------\u001b[39m",
      "\u001b[31mNameError\u001b[39m                                 Traceback (most recent call last)",
      "\u001b[36mCell\u001b[39m\u001b[36m \u001b[39m\u001b[32mIn[35]\u001b[39m\u001b[32m, line 2\u001b[39m\n\u001b[32m      1\u001b[39m plt.figure(figsize=(\u001b[32m10\u001b[39m, \u001b[32m5\u001b[39m))\n\u001b[32m----> \u001b[39m\u001b[32m2\u001b[39m plt.plot(\u001b[43mmonthly_sales\u001b[49m.index.astype(\u001b[38;5;28mstr\u001b[39m), monthly_sales.values, marker=\u001b[33m'\u001b[39m\u001b[33mo\u001b[39m\u001b[33m'\u001b[39m)\n\u001b[32m      3\u001b[39m plt.title(\u001b[33m\"\u001b[39m\u001b[33mMonthly Sales Trend\u001b[39m\u001b[33m\"\u001b[39m)\n\u001b[32m      4\u001b[39m plt.xlabel(\u001b[33m\"\u001b[39m\u001b[33mMonth\u001b[39m\u001b[33m\"\u001b[39m)\n",
      "\u001b[31mNameError\u001b[39m: name 'monthly_sales' is not defined"
     ]
    },
    {
     "data": {
      "text/plain": [
       "<Figure size 1000x500 with 0 Axes>"
      ]
     },
     "metadata": {},
     "output_type": "display_data"
    }
   ],
   "source": [
    "plt.figure(figsize=(10, 5))\n",
    "plt.plot(monthly_sales.index.astype(str), monthly_sales.values, marker='o')\n",
    "plt.title(\"Monthly Sales Trend\")\n",
    "plt.xlabel(\"Month\")\n",
    "plt.ylabel(\"Total Sales\")\n",
    "plt.grid(True)\n",
    "plt.show()\n"
   ]
  },
  {
   "cell_type": "markdown",
   "id": "f539fc0b",
   "metadata": {},
   "source": [
    "# 2-Category comparison"
   ]
  },
  {
   "cell_type": "markdown",
   "id": "90ae2422",
   "metadata": {},
   "source": [
    "visualize sales by product category to see which categories earn the most"
   ]
  },
  {
   "cell_type": "code",
   "execution_count": 143,
   "id": "2506c9c7",
   "metadata": {},
   "outputs": [
    {
     "data": {
      "text/plain": [
       "Category\n",
       "Electronics    145302.73\n",
       "Accessories    139236.48\n",
       "Unknown        131365.45\n",
       "Gadgets        123829.47\n",
       "Name: Sales, dtype: float64"
      ]
     },
     "execution_count": 143,
     "metadata": {},
     "output_type": "execute_result"
    }
   ],
   "source": [
    "#visualize sales by product category to see which categories earn the most\n",
    "category_sales = df.groupby(\"Category\")[\"Sales\"].sum().sort_values(ascending=False)\n",
    "category_sales\n"
   ]
  },
  {
   "cell_type": "markdown",
   "id": "0278cc00",
   "metadata": {},
   "source": [
    "A bar chart for category sales"
   ]
  },
  {
   "cell_type": "code",
   "execution_count": 144,
   "id": "747e842b",
   "metadata": {},
   "outputs": [
    {
     "data": {
      "image/png": "[encoded data removed]",
      "text/plain": [
       "<Figure size 800x500 with 1 Axes>"
      ]
     },
     "metadata": {},
     "output_type": "display_data"
    }
   ],
   "source": [
    "#We’ll use a bar plot, which is perfect for category comparisons\n",
    "plt.figure(figsize=(8, 5))\n",
    "plt.bar(category_sales.index, category_sales.values)\n",
    "plt.title(\"Total sales by category\")\n",
    "plt.xlabel(\"Category\")\n",
    "plt.ylabel(\"Total sales\")\n",
    "plt.show()"
   ]
  },
  {
   "cell_type": "code",
   "execution_count": null,
   "id": "651dfc6a",
   "metadata": {},
   "outputs": [],
   "source": []
  },
  {
   "cell_type": "markdown",
   "id": "a27495f1",
   "metadata": {},
   "source": [
    "# 3-Top customers by total sales"
   ]
  },
  {
   "cell_type": "code",
   "execution_count": 145,
   "id": "500847bc",
   "metadata": {},
   "outputs": [],
   "source": [
    "#Next visualization, Top customers by total sales\n",
    "#This helps you spot your most valuable customers\n",
    "#Conceptually, it’s the same pattern:\n",
    "#1-Group by CustomerID\n",
    "#2-Sum their Sales\n",
    "#3-Sort descending\n",
    "#4-Plot a bar chart (often horizontal, for readability)\n",
    "top_customers = df.groupby(\"CustomerID\")[\"Sales\"].sum().sort_values(ascending=False).head(10)"
   ]
  },
  {
   "cell_type": "code",
   "execution_count": 88,
   "id": "076c492b",
   "metadata": {},
   "outputs": [
    {
     "data": {
      "image/png": "[encoded data removed]",
      "text/plain": [
       "<Figure size 800x500 with 1 Axes>"
      ]
     },
     "metadata": {},
     "output_type": "display_data"
    }
   ],
   "source": [
    "#Let’s visualize them with a horizontal bar chart (better for long names)\n",
    "plt.figure(figsize=(8, 5))\n",
    "plt.barh(top_customers.index, top_customers.values)\n",
    "plt.title(\"Top 10 customers by sales\")\n",
    "plt.xlabel(\"Total sales\")\n",
    "plt.ylabel(\"CustomerID\")\n",
    "plt.show()"
   ]
  },
  {
   "cell_type": "code",
   "execution_count": 13,
   "id": "b52cde5e",
   "metadata": {},
   "outputs": [
    {
     "ename": "NameError",
     "evalue": "name 'df_raw' is not defined",
     "output_type": "error",
     "traceback": [
      "\u001b[31m---------------------------------------------------------------------------\u001b[39m",
      "\u001b[31mNameError\u001b[39m                                 Traceback (most recent call last)",
      "\u001b[36mCell\u001b[39m\u001b[36m \u001b[39m\u001b[32mIn[13]\u001b[39m\u001b[32m, line 1\u001b[39m\n\u001b[32m----> \u001b[39m\u001b[32m1\u001b[39m df_raw[\u001b[33m\"\u001b[39m\u001b[33mSales\u001b[39m\u001b[33m\"\u001b[39m] = \u001b[43mdf_raw\u001b[49m[\u001b[33m\"\u001b[39m\u001b[33mPrice\u001b[39m\u001b[33m\"\u001b[39m].astype(\u001b[38;5;28mfloat\u001b[39m) * df_raw[\u001b[33m\"\u001b[39m\u001b[33mQuantity\u001b[39m\u001b[33m\"\u001b[39m].astype(\u001b[38;5;28mfloat\u001b[39m)\n\u001b[32m      2\u001b[39m df_raw.columns.tolist()\n",
      "\u001b[31mNameError\u001b[39m: name 'df_raw' is not defined"
     ]
    }
   ],
   "source": [
    "df_raw[\"Sales\"] = df_raw[\"Price\"].astype(float) * df_raw[\"Quantity\"].astype(float)\n",
    "df_raw.columns.tolist()\n"
   ]
  },
  {
   "cell_type": "code",
   "execution_count": 147,
   "id": "1c6c54b9",
   "metadata": {},
   "outputs": [
    {
     "data": {
      "image/png": "[encoded data removed]",
      "text/plain": [
       "<Figure size 640x480 with 1 Axes>"
      ]
     },
     "metadata": {},
     "output_type": "display_data"
    }
   ],
   "source": [
    "#Scatter plot of Price vs. Quantity to see if there’s any correlation\n",
    "plt.scatter(df_raw[\"Quantity\"], df_raw[\"Sales\"], c=\"#00f\", marker=\"o\", s=5)\n",
    "plt.title(\"Relationship between Quantity and Sales\")\n",
    "plt.xlabel(\"Quantity\")\n",
    "plt.ylabel(\"Sales\")\n",
    "plt.show()\n"
   ]
  },
  {
   "cell_type": "markdown",
   "id": "3603b0aa",
   "metadata": {},
   "source": [
    "# Sales Distribution (Histogram)"
   ]
  },
  {
   "cell_type": "markdown",
   "id": "08a3c0fd",
   "metadata": {},
   "source": []
  },
  {
   "cell_type": "code",
   "execution_count": 148,
   "id": "c43f2b19",
   "metadata": {},
   "outputs": [
    {
     "data": {
      "image/png": "[encoded data removed]",
      "text/plain": [
       "<Figure size 640x480 with 1 Axes>"
      ]
     },
     "metadata": {},
     "output_type": "display_data"
    }
   ],
   "source": [
    "#See how sales amounts are spread\n",
    "#are most orders small, medium, or large?\n",
    "\n",
    "# Create a histogram of the 'Sales' column\n",
    "plt.hist(df_raw['Sales'], bins=20, color='green', edgecolor='black')\n",
    "\n",
    "# Add a title for clarity\n",
    "plt.title('Sales Distribution', fontsize=14)\n",
    "\n",
    "# Label the axes\n",
    "plt.xlabel('Sales Amount', fontsize=12)\n",
    "plt.ylabel('Number of Orders', fontsize=12)\n",
    "\n",
    "# Optional: Add a grid to make it easier to read\n",
    "plt.grid(True, linestyle='--', alpha=0.6)\n",
    "\n",
    "# Show the plot\n",
    "plt.show()\n"
   ]
  },
  {
   "cell_type": "code",
   "execution_count": null,
   "id": "9379ec16",
   "metadata": {},
   "outputs": [],
   "source": [
    "#export cleaned data as Excel\n",
    "df_raw.to_excel(\"clean_retail.xlsx\", index=False)"
   ]
  },
  {
   "cell_type": "code",
   "execution_count": 152,
   "id": "1ec19d92",
   "metadata": {},
   "outputs": [
    {
     "name": "stdout",
     "output_type": "stream",
     "text": [
      "CSV file exported successfully!\n"
     ]
    }
   ],
   "source": [
    "#export cleaned data as CSV\n",
    "df_raw.to_csv('output.csv', index=False)\n",
    "print(\"CSV file exported successfully!\")"
   ]
  },
  {
   "cell_type": "code",
   "execution_count": null,
   "id": "ff8a4848",
   "metadata": {},
   "outputs": [
    {
     "name": "stdout",
     "output_type": "stream",
     "text": [
      "['TransactionID', 'CustomerID', 'Product', 'Category', 'Quantity', 'Price', 'TransactionDate', 'Region', 'TransactionDate_clean', 'Sales']\n"
     ]
    }
   ],
   "source": [
    "#missed TransactionDate and sales columns. now to restore them from backup:\n",
    "import pandas as pd\n",
    "\n",
    "# Load backup file\n",
    "df_backup = pd.read_csv(\"retails_sales_data_clean.csv\")\n",
    "\n",
    "# Check what columns are available\n",
    "print(df_backup.columns.tolist())\n"
   ]
  },
  {
   "cell_type": "code",
   "execution_count": 53,
   "id": "97e74209",
   "metadata": {},
   "outputs": [
    {
     "name": "stdout",
     "output_type": "stream",
     "text": [
      "Index(['TransactionID', 'CustomerID', 'Product', 'Category', 'Quantity',\n",
      "       'Price', 'Region', 'TransactionDate', 'Sales'],\n",
      "      dtype='object')\n",
      "<class 'pandas.core.frame.DataFrame'>\n",
      "RangeIndex: 205 entries, 0 to 204\n",
      "Data columns (total 9 columns):\n",
      " #   Column           Non-Null Count  Dtype         \n",
      "---  ------           --------------  -----         \n",
      " 0   TransactionID    205 non-null    object        \n",
      " 1   CustomerID       205 non-null    object        \n",
      " 2   Product          205 non-null    object        \n",
      " 3   Category         156 non-null    object        \n",
      " 4   Quantity         205 non-null    int64         \n",
      " 5   Price            205 non-null    float64       \n",
      " 6   Region           167 non-null    object        \n",
      " 7   TransactionDate  205 non-null    datetime64[ns]\n",
      " 8   Sales            205 non-null    float64       \n",
      "dtypes: datetime64[ns](1), float64(2), int64(1), object(5)\n",
      "memory usage: 14.5+ KB\n"
     ]
    }
   ],
   "source": [
    "# Restore the clean date column into the current df\n",
    "df['TransactionDate'] = pd.to_datetime(df_backup['TransactionDate_clean'], errors='coerce')\n",
    "\n",
    "# Optionally drop the old raw date if it still exists\n",
    "df = df.drop(columns=['TransactionDate_raw'], errors='ignore')\n",
    "\n",
    "# Check if everything looks good\n",
    "print(df.columns)\n",
    "df.info()\n"
   ]
  },
  {
   "cell_type": "code",
   "execution_count": 59,
   "id": "2f0f6a19",
   "metadata": {},
   "outputs": [
    {
     "name": "stdout",
     "output_type": "stream",
     "text": [
      "<class 'pandas.core.frame.DataFrame'>\n",
      "RangeIndex: 205 entries, 0 to 204\n",
      "Data columns (total 10 columns):\n",
      " #   Column                 Non-Null Count  Dtype  \n",
      "---  ------                 --------------  -----  \n",
      " 0   TransactionID          205 non-null    object \n",
      " 1   CustomerID             205 non-null    object \n",
      " 2   Product                205 non-null    object \n",
      " 3   Category               156 non-null    object \n",
      " 4   Quantity               205 non-null    int64  \n",
      " 5   Price                  205 non-null    float64\n",
      " 6   TransactionDate        205 non-null    object \n",
      " 7   Region                 167 non-null    object \n",
      " 8   TransactionDate_clean  205 non-null    object \n",
      " 9   Sales                  205 non-null    float64\n",
      "dtypes: float64(2), int64(1), object(7)\n",
      "memory usage: 16.1+ KB\n",
      "None\n",
      "  TransactionID CustomerID     Product     Category  Quantity    Price  \\\n",
      "0      TXN00001   CUST0052      Camera  Electronics         1  1489.74   \n",
      "1      TXN00002   CUST0093     Monitor          NaN         2  1364.68   \n",
      "2      TXN00003   CUST0015  Smartphone  Accessories         1  1004.30   \n",
      "3      TXN00004   CUST0072       Mouse          NaN         1    91.89   \n",
      "4      TXN00005   CUST0061      Laptop  Accessories         3  1719.75   \n",
      "\n",
      "  TransactionDate Region TransactionDate_clean    Sales  \n",
      "0      2021-12-04  North            2021-12-04  1489.74  \n",
      "1      12/04/2022   East            2022-04-12  2729.36  \n",
      "2      27/01/2022   East            2022-01-27  1004.30  \n",
      "3      22/10/2022  South            2022-10-22    91.89  \n",
      "4      17/05/2021    NaN            2021-05-17  5159.25  \n"
     ]
    }
   ],
   "source": [
    "import pandas as pd\n",
    "\n",
    "# Load the clean file\n",
    "df = pd.read_csv(\"retails_sales_data_clean.csv\", parse_dates=['TransactionDate'])\n",
    "\n",
    "# Add the Sales column if it doesn’t exist\n",
    "if 'Sales' not in df.columns:\n",
    "    df['Sales'] = df['Quantity'] * df['Price']\n",
    "\n",
    "# Confirm everything looks correct\n",
    "print(df.info())\n",
    "print(df.head())\n"
   ]
  },
  {
   "cell_type": "code",
   "execution_count": 60,
   "id": "53843b63",
   "metadata": {},
   "outputs": [
    {
     "data": {
      "text/plain": [
       "['TransactionID',\n",
       " 'CustomerID',\n",
       " 'Product',\n",
       " 'Category',\n",
       " 'Quantity',\n",
       " 'Price',\n",
       " 'TransactionDate',\n",
       " 'Region',\n",
       " 'TransactionDate_clean',\n",
       " 'Sales']"
      ]
     },
     "execution_count": 60,
     "metadata": {},
     "output_type": "execute_result"
    }
   ],
   "source": [
    "#double check columns\n",
    "df.columns.tolist()"
   ]
  },
  {
   "cell_type": "code",
   "execution_count": 61,
   "id": "2e48d975",
   "metadata": {},
   "outputs": [],
   "source": [
    "# if df['TransactionDate_clean'] is the cleaned one, replace it with TransactionDate\n",
    "df = df.drop(columns=['TransactionDate'])\n",
    "df = df.rename(columns={'TransactionDate_clean': 'TransactionDate'})\n"
   ]
  },
  {
   "cell_type": "code",
   "execution_count": 62,
   "id": "1fcc3da5",
   "metadata": {},
   "outputs": [
    {
     "data": {
      "text/plain": [
       "['TransactionID',\n",
       " 'CustomerID',\n",
       " 'Product',\n",
       " 'Category',\n",
       " 'Quantity',\n",
       " 'Price',\n",
       " 'Region',\n",
       " 'TransactionDate',\n",
       " 'Sales']"
      ]
     },
     "execution_count": 62,
     "metadata": {},
     "output_type": "execute_result"
    }
   ],
   "source": [
    "df.columns.tolist()"
   ]
  },
  {
   "cell_type": "code",
   "execution_count": 65,
   "id": "593203b6",
   "metadata": {},
   "outputs": [
    {
     "data": {
      "text/plain": [
       "0      2021-12-04\n",
       "1      2022-04-12\n",
       "2      2022-01-27\n",
       "3      2022-10-22\n",
       "4      2021-05-17\n",
       "          ...    \n",
       "200    2021-06-12\n",
       "201    2021-10-30\n",
       "202    2021-04-26\n",
       "203    2021-05-19\n",
       "204    2022-12-30\n",
       "Name: TransactionDate, Length: 205, dtype: object"
      ]
     },
     "execution_count": 65,
     "metadata": {},
     "output_type": "execute_result"
    }
   ],
   "source": [
    "#to verify if it's the cleaned one\n",
    "df[\"TransactionDate\"]"
   ]
  },
  {
   "cell_type": "code",
   "execution_count": 66,
   "id": "edcb876b",
   "metadata": {},
   "outputs": [
    {
     "name": "stdout",
     "output_type": "stream",
     "text": [
      "CSV file exported successfully!\n"
     ]
    }
   ],
   "source": [
    "df.to_csv(\"retail_sales_clean2.csv\", index=False)\n",
    "print(\"CSV file exported successfully!\")"
   ]
  },
  {
   "cell_type": "code",
   "execution_count": 44,
   "id": "3d000711",
   "metadata": {},
   "outputs": [
    {
     "name": "stdout",
     "output_type": "stream",
     "text": [
      "['TransactionID', 'CustomerID', 'Product', 'Category', 'Quantity', 'Price', 'TransactionDate', 'Region', 'TransactionDate_clean', 'Sales']\n"
     ]
    }
   ],
   "source": [
    "import pandas as pd\n",
    "\n",
    "# Load your backup file\n",
    "df_backup = pd.read_csv(\"retails_sales_data_clean.csv\")\n",
    "\n",
    "# Check what columns are available\n",
    "print(df_backup.columns.tolist())\n"
   ]
  },
  {
   "cell_type": "markdown",
   "id": "7739010e",
   "metadata": {},
   "source": [
    "# Sales in different months of the year"
   ]
  },
  {
   "cell_type": "code",
   "execution_count": 45,
   "id": "1808a8a4",
   "metadata": {},
   "outputs": [
    {
     "data": {
      "text/plain": [
       "0    2021-12-04\n",
       "1    12/04/2022\n",
       "2    27/01/2022\n",
       "3    22/10/2022\n",
       "4    17/05/2021\n",
       "Name: TransactionDate, dtype: object"
      ]
     },
     "execution_count": 45,
     "metadata": {},
     "output_type": "execute_result"
    }
   ],
   "source": [
    "#see the sales in different months to check in which months the sale is higher\n",
    "#we need to make sure:\n",
    "#1-the TransactionDate column is a real date type.\n",
    "#2-Extracting the month from it.\n",
    "#3-Grouping by that month and summing the sales.\n",
    "df[\"TransactionDate\"].head()"
   ]
  },
  {
   "cell_type": "code",
   "execution_count": 78,
   "id": "40896e53",
   "metadata": {},
   "outputs": [
    {
     "data": {
      "text/plain": [
       "dtype('<M8[ns]')"
      ]
     },
     "execution_count": 78,
     "metadata": {},
     "output_type": "execute_result"
    }
   ],
   "source": [
    "df[\"TransactionDate\"].dtype\n",
    "#this means the TransactionDate is still object/string type, we need to convert it to datetime type"
   ]
  },
  {
   "cell_type": "code",
   "execution_count": 114,
   "id": "75c19b4d",
   "metadata": {},
   "outputs": [],
   "source": [
    "#turn the TransactionDate to datetime type\n",
    "df[\"TransactionDate\"] = pd.to_datetime(df[\"TransactionDate\"], errors=\"coerce\")\n"
   ]
  },
  {
   "cell_type": "code",
   "execution_count": 115,
   "id": "51ba32cd",
   "metadata": {},
   "outputs": [
    {
     "data": {
      "text/plain": [
       "dtype('<M8[ns]')"
      ]
     },
     "execution_count": 115,
     "metadata": {},
     "output_type": "execute_result"
    }
   ],
   "source": [
    "df[\"TransactionDate\"].dtype"
   ]
  },
  {
   "cell_type": "code",
   "execution_count": 41,
   "id": "28a1edb4",
   "metadata": {},
   "outputs": [
    {
     "ename": "AttributeError",
     "evalue": "Can only use .dt accessor with datetimelike values",
     "output_type": "error",
     "traceback": [
      "\u001b[31m---------------------------------------------------------------------------\u001b[39m",
      "\u001b[31mAttributeError\u001b[39m                            Traceback (most recent call last)",
      "\u001b[36mCell\u001b[39m\u001b[36m \u001b[39m\u001b[32mIn[41]\u001b[39m\u001b[32m, line 2\u001b[39m\n\u001b[32m      1\u001b[39m \u001b[38;5;66;03m#now extract the month from TransactionDate so we can group sales by month:\u001b[39;00m\n\u001b[32m----> \u001b[39m\u001b[32m2\u001b[39m df[\u001b[33m\"\u001b[39m\u001b[33mMonth\u001b[39m\u001b[33m\"\u001b[39m] = \u001b[43mdf\u001b[49m\u001b[43m[\u001b[49m\u001b[33;43m\"\u001b[39;49m\u001b[33;43mTransactionDate\u001b[39;49m\u001b[33;43m\"\u001b[39;49m\u001b[43m]\u001b[49m\u001b[43m.\u001b[49m\u001b[43mdt\u001b[49m.month\n",
      "\u001b[36mFile \u001b[39m\u001b[32m~/.pyenv/versions/3.11.10/lib/python3.11/site-packages/pandas/core/generic.py:6318\u001b[39m, in \u001b[36mNDFrame.__getattr__\u001b[39m\u001b[34m(self, name)\u001b[39m\n\u001b[32m   6311\u001b[39m \u001b[38;5;28;01mif\u001b[39;00m (\n\u001b[32m   6312\u001b[39m     name \u001b[38;5;129;01mnot\u001b[39;00m \u001b[38;5;129;01min\u001b[39;00m \u001b[38;5;28mself\u001b[39m._internal_names_set\n\u001b[32m   6313\u001b[39m     \u001b[38;5;129;01mand\u001b[39;00m name \u001b[38;5;129;01mnot\u001b[39;00m \u001b[38;5;129;01min\u001b[39;00m \u001b[38;5;28mself\u001b[39m._metadata\n\u001b[32m   6314\u001b[39m     \u001b[38;5;129;01mand\u001b[39;00m name \u001b[38;5;129;01mnot\u001b[39;00m \u001b[38;5;129;01min\u001b[39;00m \u001b[38;5;28mself\u001b[39m._accessors\n\u001b[32m   6315\u001b[39m     \u001b[38;5;129;01mand\u001b[39;00m \u001b[38;5;28mself\u001b[39m._info_axis._can_hold_identifiers_and_holds_name(name)\n\u001b[32m   6316\u001b[39m ):\n\u001b[32m   6317\u001b[39m     \u001b[38;5;28;01mreturn\u001b[39;00m \u001b[38;5;28mself\u001b[39m[name]\n\u001b[32m-> \u001b[39m\u001b[32m6318\u001b[39m \u001b[38;5;28;01mreturn\u001b[39;00m \u001b[38;5;28;43mobject\u001b[39;49m\u001b[43m.\u001b[49m\u001b[34;43m__getattribute__\u001b[39;49m\u001b[43m(\u001b[49m\u001b[38;5;28;43mself\u001b[39;49m\u001b[43m,\u001b[49m\u001b[43m \u001b[49m\u001b[43mname\u001b[49m\u001b[43m)\u001b[49m\n",
      "\u001b[36mFile \u001b[39m\u001b[32m~/.pyenv/versions/3.11.10/lib/python3.11/site-packages/pandas/core/accessor.py:224\u001b[39m, in \u001b[36mCachedAccessor.__get__\u001b[39m\u001b[34m(self, obj, cls)\u001b[39m\n\u001b[32m    221\u001b[39m \u001b[38;5;28;01mif\u001b[39;00m obj \u001b[38;5;129;01mis\u001b[39;00m \u001b[38;5;28;01mNone\u001b[39;00m:\n\u001b[32m    222\u001b[39m     \u001b[38;5;66;03m# we're accessing the attribute of the class, i.e., Dataset.geo\u001b[39;00m\n\u001b[32m    223\u001b[39m     \u001b[38;5;28;01mreturn\u001b[39;00m \u001b[38;5;28mself\u001b[39m._accessor\n\u001b[32m--> \u001b[39m\u001b[32m224\u001b[39m accessor_obj = \u001b[38;5;28;43mself\u001b[39;49m\u001b[43m.\u001b[49m\u001b[43m_accessor\u001b[49m\u001b[43m(\u001b[49m\u001b[43mobj\u001b[49m\u001b[43m)\u001b[49m\n\u001b[32m    225\u001b[39m \u001b[38;5;66;03m# Replace the property with the accessor object. Inspired by:\u001b[39;00m\n\u001b[32m    226\u001b[39m \u001b[38;5;66;03m# https://www.pydanny.com/cached-property.html\u001b[39;00m\n\u001b[32m    227\u001b[39m \u001b[38;5;66;03m# We need to use object.__setattr__ because we overwrite __setattr__ on\u001b[39;00m\n\u001b[32m    228\u001b[39m \u001b[38;5;66;03m# NDFrame\u001b[39;00m\n\u001b[32m    229\u001b[39m \u001b[38;5;28mobject\u001b[39m.\u001b[34m__setattr__\u001b[39m(obj, \u001b[38;5;28mself\u001b[39m._name, accessor_obj)\n",
      "\u001b[36mFile \u001b[39m\u001b[32m~/.pyenv/versions/3.11.10/lib/python3.11/site-packages/pandas/core/indexes/accessors.py:643\u001b[39m, in \u001b[36mCombinedDatetimelikeProperties.__new__\u001b[39m\u001b[34m(cls, data)\u001b[39m\n\u001b[32m    640\u001b[39m \u001b[38;5;28;01melif\u001b[39;00m \u001b[38;5;28misinstance\u001b[39m(data.dtype, PeriodDtype):\n\u001b[32m    641\u001b[39m     \u001b[38;5;28;01mreturn\u001b[39;00m PeriodProperties(data, orig)\n\u001b[32m--> \u001b[39m\u001b[32m643\u001b[39m \u001b[38;5;28;01mraise\u001b[39;00m \u001b[38;5;167;01mAttributeError\u001b[39;00m(\u001b[33m\"\u001b[39m\u001b[33mCan only use .dt accessor with datetimelike values\u001b[39m\u001b[33m\"\u001b[39m)\n",
      "\u001b[31mAttributeError\u001b[39m: Can only use .dt accessor with datetimelike values"
     ]
    }
   ],
   "source": [
    "#now extract the month from TransactionDate so we can group sales by month:\n",
    "df[\"Month\"] = df[\"TransactionDate\"].dt.month"
   ]
  },
  {
   "cell_type": "code",
   "execution_count": 117,
   "id": "625594c7",
   "metadata": {},
   "outputs": [
    {
     "data": {
      "text/html": [
       "<div>\n",
       "<style scoped>\n",
       "    .dataframe tbody tr th:only-of-type {\n",
       "        vertical-align: middle;\n",
       "    }\n",
       "\n",
       "    .dataframe tbody tr th {\n",
       "        vertical-align: top;\n",
       "    }\n",
       "\n",
       "    .dataframe thead th {\n",
       "        text-align: right;\n",
       "    }\n",
       "</style>\n",
       "<table border=\"1\" class=\"dataframe\">\n",
       "  <thead>\n",
       "    <tr style=\"text-align: right;\">\n",
       "      <th></th>\n",
       "      <th>TransactionDate</th>\n",
       "      <th>Month</th>\n",
       "    </tr>\n",
       "  </thead>\n",
       "  <tbody>\n",
       "    <tr>\n",
       "      <th>0</th>\n",
       "      <td>2021-12-04</td>\n",
       "      <td>12</td>\n",
       "    </tr>\n",
       "    <tr>\n",
       "      <th>1</th>\n",
       "      <td>2022-04-12</td>\n",
       "      <td>4</td>\n",
       "    </tr>\n",
       "    <tr>\n",
       "      <th>2</th>\n",
       "      <td>2022-01-27</td>\n",
       "      <td>1</td>\n",
       "    </tr>\n",
       "    <tr>\n",
       "      <th>3</th>\n",
       "      <td>2022-10-22</td>\n",
       "      <td>10</td>\n",
       "    </tr>\n",
       "    <tr>\n",
       "      <th>4</th>\n",
       "      <td>2021-05-17</td>\n",
       "      <td>5</td>\n",
       "    </tr>\n",
       "    <tr>\n",
       "      <th>5</th>\n",
       "      <td>2021-10-06</td>\n",
       "      <td>10</td>\n",
       "    </tr>\n",
       "    <tr>\n",
       "      <th>6</th>\n",
       "      <td>2022-12-26</td>\n",
       "      <td>12</td>\n",
       "    </tr>\n",
       "    <tr>\n",
       "      <th>7</th>\n",
       "      <td>2021-09-01</td>\n",
       "      <td>9</td>\n",
       "    </tr>\n",
       "    <tr>\n",
       "      <th>8</th>\n",
       "      <td>2021-07-22</td>\n",
       "      <td>7</td>\n",
       "    </tr>\n",
       "    <tr>\n",
       "      <th>9</th>\n",
       "      <td>2022-01-05</td>\n",
       "      <td>1</td>\n",
       "    </tr>\n",
       "  </tbody>\n",
       "</table>\n",
       "</div>"
      ],
      "text/plain": [
       "  TransactionDate  Month\n",
       "0      2021-12-04     12\n",
       "1      2022-04-12      4\n",
       "2      2022-01-27      1\n",
       "3      2022-10-22     10\n",
       "4      2021-05-17      5\n",
       "5      2021-10-06     10\n",
       "6      2022-12-26     12\n",
       "7      2021-09-01      9\n",
       "8      2021-07-22      7\n",
       "9      2022-01-05      1"
      ]
     },
     "execution_count": 117,
     "metadata": {},
     "output_type": "execute_result"
    }
   ],
   "source": [
    "df[[\"TransactionDate\", \"Month\"]].head(10)"
   ]
  },
  {
   "cell_type": "code",
   "execution_count": 3,
   "id": "7a13e7f6",
   "metadata": {},
   "outputs": [
    {
     "ename": "NameError",
     "evalue": "name 'df' is not defined",
     "output_type": "error",
     "traceback": [
      "\u001b[31m---------------------------------------------------------------------------\u001b[39m",
      "\u001b[31mNameError\u001b[39m                                 Traceback (most recent call last)",
      "\u001b[36mCell\u001b[39m\u001b[36m \u001b[39m\u001b[32mIn[3]\u001b[39m\u001b[32m, line 1\u001b[39m\n\u001b[32m----> \u001b[39m\u001b[32m1\u001b[39m monthly_sales = \u001b[43mdf\u001b[49m.groupby(\u001b[33m\"\u001b[39m\u001b[33mMonth\u001b[39m\u001b[33m\"\u001b[39m)[\u001b[33m\"\u001b[39m\u001b[33mSales\u001b[39m\u001b[33m\"\u001b[39m].sum()\n\u001b[32m      2\u001b[39m monthly_sales\n",
      "\u001b[31mNameError\u001b[39m: name 'df' is not defined"
     ]
    }
   ],
   "source": [
    "monthly_sales = df.groupby(\"Month\")[\"Sales\"].sum()\n",
    "monthly_sales"
   ]
  },
  {
   "cell_type": "markdown",
   "id": "f8a425f3",
   "metadata": {},
   "source": [
    "Visualization:"
   ]
  },
  {
   "cell_type": "code",
   "execution_count": 1,
   "id": "cca5fda5",
   "metadata": {},
   "outputs": [],
   "source": [
    "import matplotlib.pyplot as plt\n"
   ]
  },
  {
   "cell_type": "code",
   "execution_count": 2,
   "id": "bd23280e",
   "metadata": {},
   "outputs": [
    {
     "ename": "NameError",
     "evalue": "name 'monthly_sales' is not defined",
     "output_type": "error",
     "traceback": [
      "\u001b[31m---------------------------------------------------------------------------\u001b[39m",
      "\u001b[31mNameError\u001b[39m                                 Traceback (most recent call last)",
      "\u001b[36mCell\u001b[39m\u001b[36m \u001b[39m\u001b[32mIn[2]\u001b[39m\u001b[32m, line 2\u001b[39m\n\u001b[32m      1\u001b[39m plt.figure(figsize=(\u001b[32m10\u001b[39m, \u001b[32m5\u001b[39m))\n\u001b[32m----> \u001b[39m\u001b[32m2\u001b[39m plt.plot(\u001b[43mmonthly_sales\u001b[49m.index, monthly_sales.values, marker=\u001b[33m'\u001b[39m\u001b[33mo\u001b[39m\u001b[33m'\u001b[39m)\n\u001b[32m      3\u001b[39m plt.title(\u001b[33m\"\u001b[39m\u001b[33mMonthly Sales Trend\u001b[39m\u001b[33m\"\u001b[39m)\n\u001b[32m      4\u001b[39m plt.xlabel(\u001b[33m\"\u001b[39m\u001b[33mMonth\u001b[39m\u001b[33m\"\u001b[39m)\n",
      "\u001b[31mNameError\u001b[39m: name 'monthly_sales' is not defined"
     ]
    },
    {
     "data": {
      "text/plain": [
       "<Figure size 1000x500 with 0 Axes>"
      ]
     },
     "metadata": {},
     "output_type": "display_data"
    }
   ],
   "source": [
    "plt.figure(figsize=(10, 5))\n",
    "plt.plot(monthly_sales.index, monthly_sales.values, marker='o')\n",
    "plt.title(\"Monthly Sales Trend\")\n",
    "plt.xlabel(\"Month\")\n",
    "plt.ylabel(\"Total Sales\")\n",
    "plt.grid(True)\n",
    "plt.show()\n"
   ]
  },
  {
   "cell_type": "code",
   "execution_count": null,
   "id": "aded4800",
   "metadata": {},
   "outputs": [],
   "source": []
  },
  {
   "cell_type": "code",
   "execution_count": null,
   "id": "730aa654",
   "metadata": {},
   "outputs": [],
   "source": [
    "df\n",
    "\n",
    "def clean_data(data_frame):\n",
    "    X\n",
    "    Y\n",
    "    Z\n",
    "    return result\n",
    "\n",
    "\n",
    "df_cleaned = clean_data(df)\n",
    "\n",
    "\n",
    "def fix_date_time(data_frame):\n",
    "    X\n",
    "    Y\n",
    "    Z\n",
    "    return result\n",
    "\n",
    "corrected_time_df = fix_date_time(df_cleaned)\n",
    "\n",
    "\n",
    "df = x\n",
    "df = y\n",
    "df = z\n",
    "\n",
    "df"
   ]
  }
 ],
 "metadata": {
  "kernelspec": {
   "display_name": "3.11.10",
   "language": "python",
   "name": "python3"
  },
  "language_info": {
   "codemirror_mode": {
    "name": "ipython",
    "version": 3
   },
   "file_extension": ".py",
   "mimetype": "text/x-python",
   "name": "python",
   "nbconvert_exporter": "python",
   "pygments_lexer": "ipython3",
   "version": "3.11.10"
  }
 },
 "nbformat": 4,
 "nbformat_minor": 5
}
